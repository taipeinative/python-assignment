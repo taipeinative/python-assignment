{
  "nbformat": 4,
  "nbformat_minor": 0,
  "metadata": {
    "colab": {
      "provenance": [],
      "collapsed_sections": []
    },
    "kernelspec": {
      "name": "python3",
      "display_name": "Python 3"
    },
    "language_info": {
      "name": "python"
    }
  },
  "cells": [
    {
      "cell_type": "markdown",
      "metadata": {
        "id": "drp6s_P4njRI"
      },
      "source": [
        "1. This Colab is designed for the course \"[REDACTED]\" instructed by [REDACTED].\n",
        "\n",
        "2. First, copy this Colab notebook to your Drive. Then, read the instruction of this assignment. \n",
        "\n",
        "3. Rename copied notebbok to **[REDACTED]**. For example, **[REDACTED]**\n",
        "\n",
        "4. When you complete your assignment, you need to:\n",
        "\n",
        "  a. First, download your Colab notebook as a IPYNB file\n",
        "\n",
        "  b. Next, upload downloaded Colab notebook to the specific drive folder [REDACTED] before **[REDACTED]**\n",
        "\n",
        "  c. Then, please submit the link of your **uploaded** file to [REDACTED]. \n",
        "  \n",
        "  The link of **uploaded** IPYNB file can be found by clicking **Share>Get Link** on the top right.\n",
        "  \n",
        "Note that you can re-submit your assigment by replacing the old one.\n"
      ]
    },
    {
      "cell_type": "markdown",
      "metadata": {
        "id": "cS296kiqkYbi"
      },
      "source": [
        "## Personal Information\n",
        "Please fill in your details below.\n",
        "\n",
        "Name: [REDACTED]\n",
        "\n",
        "Student ID: [REDACTED]\n",
        "\n",
        "Department/Program: [REDACTED]"
      ]
    },
    {
      "cell_type": "code",
      "metadata": {
        "id": "qnES-TmTBrcy"
      },
      "source": [
        "# Load packages\n",
        "import matplotlib.pyplot as plt\n",
        "import numpy as np\n",
        "import pandas as pd\n",
        "\n",
        "# Used for interact\n",
        "from ipywidgets import interact, interact_manual, IntSlider, IntText"
      ],
      "execution_count": null,
      "outputs": []
    },
    {
      "cell_type": "markdown",
      "metadata": {
        "id": "xFgyJZ_dlYGR"
      },
      "source": [
        "## Define a Fuctnion with Variable-Length Argument\n",
        "\n",
        "In this week, we showed you how to define a function with variable-length arguments.\n",
        "\n",
        "Now, we want to define a function ``multi_tasks()`` satisfying the docstring inside."
      ]
    },
    {
      "cell_type": "code",
      "metadata": {
        "id": "qIvX1TVk479r"
      },
      "source": [
        "def multi_tasks(*args):\n",
        "    \"\"\" Description of multi_task function\n",
        "    Parametes: \n",
        "        args: a tuple of scalars (int or float)\n",
        "    Returns:\n",
        "        a str or a tuple or a list\n",
        "            - If args contains 0 elements, then it outputs \"Yo, bro！\". Note that this returns a string.\n",
        "            - If args contains 1 element, then print a string whose values is your [REDACTED]. Note that this returns None\n",
        "            - If args contains 2 numbers, then we plot y=5x^5-6x-6 on [a, b] interaval using 27 points, \n",
        "                where a, b are the first and the second element of args, respecticely. Note that this returns None\n",
        "            - If args contains more than 2 numbers, then we return a function parametric(c, d) which represents compute the value function cx+d based on the value of x,\n",
        "                where c, d are the first and the last element of args, respecticely. Note that this returns a function. \n",
        "    \"\"\"  \n",
        "    def plot_square(a: float, b: float):\n",
        "        x_values = np.linspace(a, b, 27)\n",
        "        y_values = 5*x_values**5-6*x_values-6\n",
        "        plt.plot(x_values, y_values)\n",
        "    \n",
        "    def parametric(c, d):\n",
        "        def linear(x: float):\n",
        "            print(f\"{x} times {c} and plus {d} is\")\n",
        "            return c*x+d\n",
        "        return linear\n",
        "\n",
        "    ### [BEGIN] Complete this function based on the docstring above ###\n",
        "\n",
        "    if len(args) == 0:\n",
        "\n",
        "      return \"Yo, bro！\"\n",
        "\n",
        "    elif len(args) == 1:\n",
        "\n",
        "      print(\"[REDACTED]\")\n",
        "      return None\n",
        "\n",
        "    elif len(args) == 2:\n",
        "\n",
        "      plot_square(args[0],args[1])\n",
        "      return None\n",
        "\n",
        "    else:\n",
        "\n",
        "      return parametric(args[0],args[-1])\n",
        "\n",
        "    ### [END] Complete this function based on the docstring above ###"
      ],
      "execution_count": null,
      "outputs": []
    },
    {
      "cell_type": "code",
      "metadata": {
        "colab": {
          "base_uri": "https://localhost:8080/"
        },
        "id": "0RvOumON7er-",
        "outputId": "4bcea2a8-aaad-4c75-d124-f666ec5f4abb"
      },
      "source": [
        "help(multi_tasks)"
      ],
      "execution_count": null,
      "outputs": [
        {
          "output_type": "stream",
          "name": "stdout",
          "text": [
            "Help on function multi_tasks in module __main__:\n",
            "\n",
            "multi_tasks(*args)\n",
            "    Description of multi_task function\n",
            "    Parametes: \n",
            "        args: a tuple of scalars (int or float)\n",
            "    Returns:\n",
            "        a str or a tuple or a list\n",
            "            - If args contains 0 elements, then it outputs \"Yo, bro！\". Note that this returns a string.\n",
            "            - If args contains 1 element, then print a string whose values is your [REDACTED]. Note that this returns None\n",
            "            - If args contains 2 numbers, then we plot y=5x^5-6x-6 on [a, b] interaval using 27 points, \n",
            "                where a, b are the first and the second element of args, respecticely. Note that this returns None\n",
            "            - If args contains more than 2 numbers, then we return a function parametric(c, d) which represents compute the value function cx+d based on the value of x,\n",
            "                where c, d are the first and the last element of args, respecticely. Note that this returns a function.\n",
            "\n"
          ]
        }
      ]
    },
    {
      "cell_type": "code",
      "metadata": {
        "colab": {
          "base_uri": "https://localhost:8080/",
          "height": 35
        },
        "id": "gZimdUMrBwwW",
        "outputId": "0941ac76-5787-4dc3-baf3-f1ba61f3bf43"
      },
      "source": [
        "# Run this and the output is a string \"Yo, bro.\"\n",
        "multi_tasks()"
      ],
      "execution_count": null,
      "outputs": [
        {
          "output_type": "execute_result",
          "data": {
            "text/plain": [
              "'Yo, bro！'"
            ],
            "application/vnd.google.colaboratory.intrinsic+json": {
              "type": "string"
            }
          },
          "metadata": {},
          "execution_count": 14
        }
      ]
    },
    {
      "cell_type": "code",
      "metadata": {
        "colab": {
          "base_uri": "https://localhost:8080/"
        },
        "id": "cyOIi8P0Bwyb",
        "outputId": "56c44875-b35c-4a89-881d-d2cca4221520"
      },
      "source": [
        "# Run this and a figure will be shown\n",
        "multi_tasks(2)"
      ],
      "execution_count": null,
      "outputs": [
        {
          "output_type": "stream",
          "name": "stdout",
          "text": [
            "[REDACTED]\n"
          ]
        }
      ]
    },
    {
      "cell_type": "code",
      "metadata": {
        "colab": {
          "base_uri": "https://localhost:8080/",
          "height": 265
        },
        "id": "RTC3OOdZBw0u",
        "outputId": "8947b9ac-716c-4354-d68e-41f5f6f6777d"
      },
      "source": [
        "# Run this and the output is a figure to plot y=5x^5-6x-6 on [-1.25, 1] interval\n",
        "multi_tasks(-1.25, 1)"
      ],
      "execution_count": null,
      "outputs": [
        {
          "output_type": "display_data",
          "data": {
            "text/plain": [
              "<Figure size 432x288 with 1 Axes>"
            ],
            "image/png": "[encoded data removed]"
          },
          "metadata": {
            "needs_background": "light"
          }
        }
      ]
    },
    {
      "cell_type": "code",
      "metadata": {
        "colab": {
          "base_uri": "https://localhost:8080/"
        },
        "id": "84pm67-yCG51",
        "outputId": "4eb3ee61-4a8d-4208-8bb1-9b83f0181b17"
      },
      "source": [
        "# Run this and the output must be 9*4+87 = 123\n",
        "multi_tasks(4, 2.3, -5, 87)(9)"
      ],
      "execution_count": null,
      "outputs": [
        {
          "output_type": "stream",
          "name": "stdout",
          "text": [
            "9 times 4 and plus 87 is\n"
          ]
        },
        {
          "output_type": "execute_result",
          "data": {
            "text/plain": [
              "123"
            ]
          },
          "metadata": {},
          "execution_count": 17
        }
      ]
    },
    {
      "cell_type": "markdown",
      "source": [
        "# (Bonus) Design your own Python exercise \n",
        "\n",
        "In this part, you have a chance to be a Pyton instructor. You may each additional 1 point in this assignment with your creativity.\n",
        "\n",
        "Based on recent course materials, please propose a Python exercise for other classmates. \n",
        "\n",
        "Note that you don't need to answer what you propose here. However, you need to describe your exercise as much detail as you can. "
      ],
      "metadata": {
        "id": "LlIWLsJ02u9s"
      }
    },
    {
      "cell_type": "markdown",
      "source": [
        "CSS, or Cascading Style Sheets, is a language used to describe the presentation of HTML or XML documents.\n",
        "\n",
        "A typical CSS structure might look like this: \n",
        "\n",
        "```css\n",
        "p {\n",
        "\n",
        "  border-color: #358;\n",
        "  border-style: solid;\n",
        "  border-width: .2em;\n",
        "  font-family: 'Gill Sans';\n",
        "  font-size: 2em;\n",
        "  font-style: italic;\n",
        "  font-weight: bold;\n",
        "\n",
        "}\n",
        "```\n",
        "\n",
        "This will make all &lt;p> elements rendered like this:\n",
        "\n",
        "![css.png](https://i.imgur.com/Wwv7Q8w.png)\n",
        "\n",
        "However, front-end programmers tend to use shorthanded version properties to reduce the number of lines, which are:\n",
        "\n",
        "```css\n",
        "p {\n",
        "\n",
        "  border: .2em solid #358;\n",
        "  font: italic bold 2em 'Gill Sans';\n",
        "\n",
        "}\n",
        "```\n",
        "\n",
        "The code above is completely equivalent to prior one."
      ],
      "metadata": {
        "id": "wrhRbRX0MAQJ"
      }
    },
    {
      "cell_type": "markdown",
      "source": [
        "In this exercice, you will need to build a function which receives these shorthanded values and outputs original properties with corresponding values. The syntax of *border* and *font* properties are shown below:\n",
        "\n",
        "```css\n",
        "/* border - must contain border-style */\n",
        "\n",
        "    /* 1 element: represents border-style */\n",
        "    {border: solid;}\n",
        "\n",
        "    /* 2 elements: represent border-width, border-style */\n",
        "    {border: .2em solid;}\n",
        "\n",
        "    /* 2 elements: represent border-style, border-color */\n",
        "    {border: solid #358;}\n",
        "\n",
        "    /* 3 elements: represent border-width, border-style, border-color */\n",
        "    {border: .2em solid #358;}\n",
        "\n",
        "/* font - must contain font-size and font-family */\n",
        "\n",
        "    /* 2 elements: represent font-size, font-family */\n",
        "    {font: 2em 'Gill Sans';}\n",
        "\n",
        "    /* 3 elements: represent font-style, font-size, font-family */\n",
        "    {font: italic 2em 'Gill Sans';}\n",
        "\n",
        "    /* 3 elements: represent font-weight, font-size, font-family */\n",
        "    {font: bold 2em 'Gill Sans';}\n",
        "\n",
        "    /* 4 elements: represent font-style, font-weight, font-size, font-family */\n",
        "    {font: italic bold 2em 'Gill Sans';}\n",
        "```\n",
        "\n",
        "The expected inputs and outputs look like this:\n",
        "\n",
        "```python\n",
        "shorthanded_Value_Decoder(\"solid\",\"#358\")\n",
        "\n",
        "# Expexted output: \"border-width: inherit; border-style: solid; border-color: #358;\"\n",
        "```\n",
        "\n",
        "<br />\n",
        "\n",
        "**Task 1** Assuming all *border-color* values must start with \"#\", write down the function *border_Decoder()* which reveals all shorthanded values.\n",
        "\n",
        "*Tips: All undesignated values in CSS default to be 'inherit'.*\n",
        "\n",
        "<br /><br />\n",
        "\n",
        "**Task 2** Write down the function *font_Decoder()* which reveals all shorthanded values.\n",
        "\n",
        "*Tips: All valid values of font-style are 'italic', 'normal' and 'oblique'; all valid values of font-weight are integers commonly between 0 to 900, 'bold' and 'normal'. All invalid value will result in returning 'inherit'.*"
      ],
      "metadata": {
        "id": "1gJ9v_q9V818"
      }
    },
    {
      "cell_type": "code",
      "source": [
        "# Task 1 Reference Answer\n",
        "\n",
        "def border_Decoder(*args):\n",
        "\n",
        "  if len(args) == 1:\n",
        "\n",
        "    print(f\"border-width: inherit; border-style: {args[0]}; border-color: inherit;\")  # style\n",
        "\n",
        "  if len(args) == 2:\n",
        "\n",
        "    if args[1][0] == \"#\":\n",
        "\n",
        "      print(f\"border-width: inherit; border-style: {args[0]}; border-color: {args[1]};\")  # style | color\n",
        "\n",
        "    else:\n",
        "\n",
        "      print(f\"border-width: {args[0]}; border-style: {args[1]}; border-color: inherit;\")  # width | style\n",
        "\n",
        "  if len(args) == 3:\n",
        "\n",
        "    print(f\"border-width: {args[0]}; border-style: {args[1]}; border-color: {args[2]};\")  # width | style | color\n",
        "\n"
      ],
      "metadata": {
        "id": "fJAKkvGr2vIA"
      },
      "execution_count": null,
      "outputs": []
    },
    {
      "cell_type": "code",
      "source": [
        "# Test for Task 1\n",
        "border_Decoder(\"solid\")\n",
        "border_Decoder(\"dotted\",\"#FFF\")\n",
        "border_Decoder(\"50px\",\"dashed\")\n",
        "border_Decoder(\"10%\",\"double\",\"#6A7BF4\")"
      ],
      "metadata": {
        "colab": {
          "base_uri": "https://localhost:8080/"
        },
        "id": "fgkWvyFPlH1C",
        "outputId": "f7faf4b3-97b2-4316-e78f-cb4c41be200c"
      },
      "execution_count": null,
      "outputs": [
        {
          "output_type": "stream",
          "name": "stdout",
          "text": [
            "border-width: inherit; border-style: solid; border-color: inherit;\n",
            "border-width: inherit; border-style: dotted; border-color: #FFF;\n",
            "border-width: 50px; border-style: dashed; border-color: inherit;\n",
            "border-width: 10%; border-style: double; border-color: #6A7BF4;\n"
          ]
        }
      ]
    },
    {
      "cell_type": "code",
      "source": [
        "# Task 2 Reference Answer\n",
        "\n",
        "import re\n",
        "\n",
        "sizeRE = \"(?<!\\S)(\\d*(\\.?)\\d+( *)(cm|mm|in|px|pt|pc|em|ex|ch|rem|vw|vh|vmin|vmax|%)|inherit)(?!\\S)\"\n",
        "styleRE = \"(?<!\\S)(italic|normal|oblique|inherit)(?!\\S)\"\n",
        "weightRE = \"(?<!\\S)(bold|normal|\\d{1,3}|inherit)(?!\\S)\"\n",
        "\n",
        "def font_Decoder(*args):\n",
        "\n",
        "  style = \"inherit\"\n",
        "  weight = \"inherit\"\n",
        "  size = \"inherit\"\n",
        "  family = \"inherit\"\n",
        "\n",
        "  if re.search(sizeRE, str(args[-2])): # size will always be in index -2\n",
        "\n",
        "      size = str(args[-2]).replace(' ', '')\n",
        "  \n",
        "  family = str(args[-1]) # family will always be in index -1\n",
        "\n",
        "  if len(args) == 3:\n",
        "\n",
        "    if str(args[0]) == \"inherit\" or str(args[0]) == \"normal\": # ( style | weight )? | size | family\n",
        "\n",
        "      style = str(args[0])\n",
        "      weight = str(args[0])\n",
        "\n",
        "    elif re.search(styleRE, str(args[0])):\n",
        "\n",
        "      style = str(args[0])\n",
        "\n",
        "    elif re.search(weightRE, str(args[0])):\n",
        "\n",
        "      weight = str(args[0])\n",
        "\n",
        "  if len(args) == 4: # style | weight | size | family\n",
        "\n",
        "    if re.search(styleRE, str(args[0])):\n",
        "\n",
        "      style = str(args[0])\n",
        "\n",
        "    if re.search(weightRE, str(args[1])):\n",
        "\n",
        "      weight = str(args[1])\n",
        "\n",
        "  print(f\"font-style: {style}; font-weight: {weight}; font-size: {size}; font-family: {family};\")"
      ],
      "metadata": {
        "id": "qEXdY_WSmTut"
      },
      "execution_count": 63,
      "outputs": []
    },
    {
      "cell_type": "code",
      "source": [
        "# Test for Task 2\n",
        "\n",
        "font_Decoder(\"4%\", \"Helvetica\") # size | family\n",
        "font_Decoder(\"italic\", \"56mm\", \"Ubuntu\") # style | size | family\n",
        "font_Decoder(\"bold\", \".1cm\", \"Consolas\") # weight | size | family\n",
        "font_Decoder(\"normal\", \".2in\", \"Times New Roman\") # 'normal/inherit' | size | family\n",
        "font_Decoder(\"oblique\", 700, \"16px\", \"Microsoft JHenghei\") # style | weight | size | family\n",
        "\n",
        "print(\"\\nInvalid Examples - invalid items should return \\'inherit\\'.\\n\")\n",
        "\n",
        "font_Decoder(\"1\", \"Noto Sans\") # Invalid size - missing unit (> To test whether regex recognizes specific keywords.)\n",
        "font_Decoder(\"l4em\", \"Arial\") # Invalid size - l4em is not defineded (> To test whether regex matchs the whole string.)"
      ],
      "metadata": {
        "colab": {
          "base_uri": "https://localhost:8080/"
        },
        "id": "iOlUJEVlred2",
        "outputId": "fddad4b3-267c-49a8-c63b-4040cbf7040f"
      },
      "execution_count": 64,
      "outputs": [
        {
          "output_type": "stream",
          "name": "stdout",
          "text": [
            "font-style: inherit; font-weight: inherit; font-size: 4%; font-family: Helvetica;\n",
            "font-style: italic; font-weight: inherit; font-size: 56mm; font-family: Ubuntu;\n",
            "font-style: inherit; font-weight: bold; font-size: .1cm; font-family: Consolas;\n",
            "font-style: normal; font-weight: normal; font-size: .2in; font-family: Times New Roman;\n",
            "font-style: oblique; font-weight: 700; font-size: 16px; font-family: Microsoft JHenghei;\n",
            "\n",
            "Invalid Examples - invalid items should return 'inherit'.\n",
            "\n",
            "font-style: inherit; font-weight: inherit; font-size: inherit; font-family: Noto Sans;\n",
            "font-style: inherit; font-weight: inherit; font-size: inherit; font-family: Arial;\n"
          ]
        }
      ]
    }
  ]
}