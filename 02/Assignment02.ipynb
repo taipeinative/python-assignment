{
  "nbformat": 4,
  "nbformat_minor": 0,
  "metadata": {
    "colab": {
      "provenance": [],
      "collapsed_sections": []
    },
    "kernelspec": {
      "name": "python3",
      "display_name": "Python 3"
    },
    "language_info": {
      "name": "python"
    },
    "widgets": {
      "application/vnd.jupyter.widget-state+json": {
        "a659671f50da4d94a543a5ce97101899": {
          "model_module": "@jupyter-widgets/controls",
          "model_name": "VBoxModel",
          "model_module_version": "1.5.0",
          "state": {
            "_dom_classes": [
              "widget-interact"
            ],
            "_model_module": "@jupyter-widgets/controls",
            "_model_module_version": "1.5.0",
            "_model_name": "VBoxModel",
            "_view_count": null,
            "_view_module": "@jupyter-widgets/controls",
            "_view_module_version": "1.5.0",
            "_view_name": "VBoxView",
            "box_style": "",
            "children": [
              "IPY_MODEL_bcce67562c1647b7a10c052aa7009e85",
              "IPY_MODEL_5e8b78c612e040a3aadea98b682f63b4",
              "IPY_MODEL_b470bfc6186b4e078137ae88443bb372",
              "IPY_MODEL_dae29f1c4b1546a0a8036c08a880485b"
            ],
            "layout": "IPY_MODEL_1aac7cd613754c58a09a1ffe8e6429b7"
          }
        },
        "bcce67562c1647b7a10c052aa7009e85": {
          "model_module": "@jupyter-widgets/controls",
          "model_name": "IntSliderModel",
          "model_module_version": "1.5.0",
          "state": {
            "_dom_classes": [],
            "_model_module": "@jupyter-widgets/controls",
            "_model_module_version": "1.5.0",
            "_model_name": "IntSliderModel",
            "_view_count": null,
            "_view_module": "@jupyter-widgets/controls",
            "_view_module_version": "1.5.0",
            "_view_name": "IntSliderView",
            "continuous_update": true,
            "description": "a",
            "description_tooltip": null,
            "disabled": false,
            "layout": "IPY_MODEL_0d921250d68f46969a2d4219a50ab515",
            "max": 9,
            "min": -10,
            "orientation": "horizontal",
            "readout": true,
            "readout_format": "d",
            "step": 1,
            "style": "IPY_MODEL_690a3156bd824b35aabb6d7cd8d02a7e",
            "value": 0
          }
        },
        "5e8b78c612e040a3aadea98b682f63b4": {
          "model_module": "@jupyter-widgets/controls",
          "model_name": "IntSliderModel",
          "model_module_version": "1.5.0",
          "state": {
            "_dom_classes": [],
            "_model_module": "@jupyter-widgets/controls",
            "_model_module_version": "1.5.0",
            "_model_name": "IntSliderModel",
            "_view_count": null,
            "_view_module": "@jupyter-widgets/controls",
            "_view_module_version": "1.5.0",
            "_view_name": "IntSliderView",
            "continuous_update": true,
            "description": "b",
            "description_tooltip": null,
            "disabled": false,
            "layout": "IPY_MODEL_3054e138926844758f2f4c006555a983",
            "max": 10,
            "min": -9,
            "orientation": "horizontal",
            "readout": true,
            "readout_format": "d",
            "step": 1,
            "style": "IPY_MODEL_c8e458a569954a088a75d8a3792a6b3c",
            "value": 10
          }
        },
        "b470bfc6186b4e078137ae88443bb372": {
          "model_module": "@jupyter-widgets/controls",
          "model_name": "IntSliderModel",
          "model_module_version": "1.5.0",
          "state": {
            "_dom_classes": [],
            "_model_module": "@jupyter-widgets/controls",
            "_model_module_version": "1.5.0",
            "_model_name": "IntSliderModel",
            "_view_count": null,
            "_view_module": "@jupyter-widgets/controls",
            "_view_module_version": "1.5.0",
            "_view_name": "IntSliderView",
            "continuous_update": true,
            "description": "n",
            "description_tooltip": null,
            "disabled": false,
            "layout": "IPY_MODEL_b7ad6dc276084efab188930a274ef54f",
            "max": 200,
            "min": 2,
            "orientation": "horizontal",
            "readout": true,
            "readout_format": "d",
            "step": 1,
            "style": "IPY_MODEL_09876060973d45d19d501f294f3d5b27",
            "value": 200
          }
        },
        "dae29f1c4b1546a0a8036c08a880485b": {
          "model_module": "@jupyter-widgets/output",
          "model_name": "OutputModel",
          "model_module_version": "1.0.0",
          "state": {
            "_dom_classes": [],
            "_model_module": "@jupyter-widgets/output",
            "_model_module_version": "1.0.0",
            "_model_name": "OutputModel",
            "_view_count": null,
            "_view_module": "@jupyter-widgets/output",
            "_view_module_version": "1.0.0",
            "_view_name": "OutputView",
            "layout": "IPY_MODEL_6a3616dcfe1b4f43a8a279f7db13c361",
            "msg_id": "",
            "outputs": [
              {
                "output_type": "display_data",
                "data": {
                  "text/plain": "<Figure size 432x288 with 1 Axes>",
                  "image/png": "iVBORw0KGgoAAAANSUhEUgAAAXcAAAEICAYAAACktLTqAAAABHNCSVQICAgIfAhkiAAAAAlwSFlzAAALEgAACxIB0t1+/AAAADh0RVh0U29mdHdhcmUAbWF0cGxvdGxpYiB2ZXJzaW9uMy4yLjIsIGh0dHA6Ly9tYXRwbG90bGliLm9yZy+WH4yJAAAgAElEQVR4nOzdd3RU1fbA8e9JJSRA6NKLIFUpooBKE1AUpVl4lidiwYL6FPSpP7GgYn0WBBsoigjSBKQK0qRJCx0CAUJJSCG999m/P2YYE5kagkHYH9aszL1333v3hLXOnJx7ihERlFJKXVx8yjsBpZRSZU8Ld6WUughp4a6UUhchLdyVUuoipIW7UkpdhLRwV0qpi5AW7uqCYYz5yhjzqu19T2NMdLFjx40xfUp53W7GmENlledfrl3bGLPOGJNhjPnofNzDxb0zjTFN/857qn8OLdxVqRhjHjTG7DXGZBtj4owxXxpjQs/lmiLyuIi8VQa5iTGmWbHrrheRFud6XSdGAIlAZREZfZ7ugTFmrTHmkeL7RCRERCLL4NqNbb8zv3O9lrpwaOGuvGaMGQ28D7wAVAG6AI2A34wxAeWZWzloBBwQHQ2oLjBauCuvGGMqA2OBp0XkVxEpEJHjwN1AY+B+W9y1xpjtxph0Y0y8MebjYte4wRizyRiTaoyJMsY8aNv/vTHmbQ9yuNYY84ft/FhjzMQzXyrGmHW2sN22ZouhTpp4njfG7DHGpBljZhljKhQ7/l/bdWOMMY/89S+BYnHfA8OA/9ru1eevn6EU9x5ojNll+70dNcb0M8aMA7oBE233mWiLtedljKlijPnBGJNgjDlhjBljjPGxHXvQGLPBGPM/Y0yKMeaYMeYWd79n9c+mhbvy1nVABWBe8Z0ikgksBfrado0HxotIZeByYDaAMaYRsAyYANQE2gO7vMyhCHgOqAF0BXoDT9ry6G6LaWdrtpjl5Bp3A/2AJsBVwIO2/PoBo4A+QDOgp7MkRORBYDrwge1eKz3M39m9rwV+wPoXUSjQHTguIq8A64GnbPd5ysE1J2D9K6op0AN4ABhe7Hhn4BDW39kHwLfGGONhvuofSAt35a0aQKKIFDo4Fms7DlAANDPG1BCRTBHZbNt/L7BSRH6y1fqTRMSrwl1EwkRks4gU2v5q+BprgeaNz0QkRkSSgUVYv2TAWvB+JyL7RSQbeMPL657LvR8GpojIbyJiEZFTInLQ3cWMMb7Av4CXRSTD9jv5CPh3sbATIjJZRIqAqUAdoHYZfiZ1gdHCXXkrEajh5OFbHdtxsBZUVwAHjTHbjDG32fY3AI6eSwLGmCuMMYttD3LTgXf480vFU3HF3mcDIbb3dYGoYseKvy8rzu5d2t9NDcAfOFFs3wmgnqN72r60KHZfdRHSwl156w8gDxhSfKcxJgS4BVgFICKHReQeoBbWh69zjTHBWAvLy88xhy+Bg0BzW7PP/wFl1cQQC9Qvtt3Ay/OzgIrFti/z4lxXvxtXD2wTsf6l1KjYvobAKU9uKiLHRcQ4+WtM/UNp4a68IiJpWB+oTrA97PM3xjTG2qYeDUwDMMbcb4ypKSIWINV2ugVrG3UfY8zdxhg/Y0x1Y0z7s27kWiUgHcg0xrQEnvjL8Xisbc+lMRsYboxpZYypCLzq5fm7gFuNMdWMMZcBz3px7re2e/c2xvgYY+rZPh+4+Ey2ppbZwDhjTCXbc41RwI9e5q4uIlq4K6+JyAdYa8v/w1rIbsFa6+wtInm2sH7AfmNMJtaHq/8SkRwROQncCowGkrEWhu28TOF5rG33GcBk4K8PTd8Aptp609zt5WdbBnwGrAGOAGeeFeQ5PamkacBu4DiwwkFuru69FetD0E+ANOB3/qyNjwfutPV2+czB6U9j/ashEtgAzACmeHJfY0xDWy8cX09zVRc+o91zlXLOGNMK2AcEarOF+ifRmrtSf2GMGWyMCTTGVMX6vGCRFuzqn0YLd6XO9hhwGmvPlSLObtNX6oLnUbOMMeY54BGsT+z3Ym0XrAPMBKoDYcC/RSTfGBOIdSDG1UASMNTW71YppdTfxG3N3RhTD3gG6CQibYEzAybeBz4RkWZACtZ+zdh+ptj2f2KLU0op9TfydBY4PyDIGFOAtQ9vLHAj1h4LYB3x9gbW/scD+XNU31ys82EYVxMr1ahRQxo3buxt7kopdUkLCwtLFJGajo65LdxF5JQx5n/ASSAHa/euMCC12EOmaP4cDVcP26g+ESk0xqRhbbpJLH5dY8wIrNOl0rBhQ7Zv3+7t51JKqUuaMeaEs2OeNMtUxVobb4J1aHYw1j7M50REJolIJxHpVLOmwy8epZRSpeRJb5k+wDERSRCRAqyzAV4PhBabX6Q+fw51PoVtyLbteBWsD1aVUkr9TTwp3E8CXYwxFW1ThPYGDmAdwXenLWYY8Ivt/ULbNrbjq3UhA6WU+nt50ua+xRgzF9gBFAI7gUnAEmCmbWGCnVjnxcD2c5ox5gjW4eX/Kk1iBQUFREdHk5ubW5rT1QWiQoUK1K9fH39///JORalLygUx/UCnTp3krw9Ujx07RqVKlahevTq6psA/k4iQlJRERkYGTZo0Ke90lLroGGPCRKSTo2MX7AjV3NxcLdj/4YwxVK9eXf/6UqocXLCFO6AF+0VA/w+VKh8XdOGulFKqdLRwV0qpMiYiFFrKdyJRLdyVUqqMZRdk4/9W+fYQ08L9IrNgwQIeffRRhg4dyooVK8o7HaUuSRX9KxI+Mrxcc9DC/W+Sk5NDjx49KCoqOq/3GTRoEJMnT+arr75i1iyPV3g7y0MPPUStWrVo27atfV9+fj7du3ensND652ZCQgLDhw8nOjqahx56iIKCgnPOX6mLQaGlkG92fEN5djXXwv1vMmXKFIYMGYKv79+zTOXbb7/NyJEjnR5fu3YtDz74oNPjDz74IL/++muJfQEBAfTu3dv+pVGzZk0aNmzI6NGj+eyzz3SgklI2hZZCPvrjo3Jtd9fC3YV9+/Zx3XXX2bd37NhB7969S3Wt6dOnM3DgQPv2Dz/8wFVXXUW7du3497//DcDHH39M27Ztadu2LZ9++ikAWVlZ9O/fn3bt2tG2bdsStfFevXrx22+/ATBmzBiefvppRIQXX3yRW265hY4dO5YqV4Du3btTrVq1s/YPGjSI6dOnA5CZmUlkZCR+fn6EhISU+l5KXWyC/IOQ1wV/3/Kr8Hg6n/slqXXr1kRGRlJUVISvry+jRo3i448/LhHTrVs3MjIyzjr3f//7H3369AGszRmRkZGcmbN+//79vP3222zatIkaNWqQnJxMWFgY3333HVu2bEFE6Ny5Mz169CAyMpK6deuyZMkSANLS0uz3GDt2LK+99hqnT59m586dLFy4kAkTJrBy5UrS0tI4cuQIjz/+eJn+Ttq2bcu2bdsoLCzkmWee4e2332b27NmsXbuWnj17lum9lPqnSs9Lp8p7Vch9JZdAv8ByyUELdxd8fHxo06YN+/fv5/DhwzRq1Ois2vD69evdXicxMZHQ0FD79urVq7nrrruoUaMGANWqVWPatGkMHjyY4OBgAIYMGcL69evp168fo0eP5sUXX+S2226jW7du9ut0794dEeHjjz9m7dq1+Pr68swzz/DMM884zaVz587k5eWRmZlJcnIy7du3B+D999/n5ptvdvtZfH19CQgIICcnhylTpgDwwgsvuD1PqUtJBb8KDGgxoFwH8f1jmmXeWPsGb6x9A4ArJlxBRFIEYTFhXD3pagBGLx/NR5s+AqDuR3WJyYhh7fG19Py+JwAjFo1gUtgkACq9W4mMvLNr24506dKFjRs38sYbb/DOO++cdbxbt260b9/+rNfKlSvtMUFBQaUegn/FFVewY8cOrrzySsaMGcObb75pP7Z3715iY2MJCAigUqVKHl1vy5Yt7Nq1i2+++YYBAwawa9cudu3a5VHBfkZeXh4VKlTw+rModanw8/Fj6qCpBPgGlF8SIlLur6uvvlr+6sCBA2ftKw8LFy6UatWqyauvvnpO16lfv77k5OSIiMi+ffukefPmkpiYKCIiSUlJEhYWJldeeaVkZWVJZmamtGnTRnbs2CGnTp2yn7do0SIZOHCgiIjExMTIlVdeKQcOHJA+ffrIsmXLvMpnzZo1MmzYMJcxx44dkzZt2pTYl5iYKC1atPDqXhfK/6VSf5e4jDjhDSQ5O/m83gfYLk7K1X9Mzb28tGzZksDAQF588cVzus5NN93Ehg0bAGjTpg2vvPIKPXr0oF27dowaNYqOHTvy4IMPcu2119K5c2ceeeQROnTowN69e7n22mtp3749Y8eOZcyYMWRnZzNkyBA++ugjWrVqxauvvsrYsWPL4uPa3XPPPXTt2pVDhw5Rv359vv3WOqPzmjVr6N+/f5neS6mLTe2Q2sSMiqFKhSrll4SzUv/vfF3INfeRI0fK999/f87XCQsLk/vvv78MMipfgwcPlkOHDnl1zoXyf6nU3yU9N10eW/SY5Bbkntf7oDV37x09epSWLVuSk5PDsGHD3J/gRseOHenVq9d5H8R0PuXn5zNo0CCuuOKK8k5FqQtagaWAr8O+JiPfs2d754PbxTqMMS2A4kMdmwKvAT/Y9jcGjgN3i0iKbSm+8cCtQDbwoIjscHUPR4t1hIeH06pVK28+i7pA6f+lUufHOS3WISKHRKS9iLQHrsZaYM8HXgJWiUhzYJVtG+AWoLntNQL48tw/glJK/XOcSj+FGWtIzE4stxy8bZbpDRwVkRPAQGCqbf9UYJDt/UDgB1uT0GYg1BhTp0yyVUqpf4BqQdV4rstz5doV0tvC/V/AT7b3tUUk1vY+Dqhte18PiCp2TrRtn1JKXRL8fPx4/rrnqRxYudxy8LhwN8YEAAOAOX89Zntq69X0Z8aYEcaY7caY7QkJCQ5j3D0PUBc+/T9Ul6ITaSeo93E9IpIiyi0Hb2rutwA7RCTeth1/prnF9vO0bf8poEGx8+rb9pUgIpNEpJOIdKpZs+ZZN6tQoQJJSUlaOPyDiQhJSUk6mlVdcppVa0bGyxk0q9as3HLwZm6Ze/izSQZgITAMeM/285di+58yxswEOgNpxZpvPFa/fn2io6NxVqtX/wwVKlSgfv365Z2GUn+r01mneX7F80y8dWK5Nc14VLgbY4KBvsBjxXa/B8w2xjwMnADutu1firUb5BGsPWuGlyYxf39/mjRpUppTlVKqXBVZipi2Zxpje44tt8LdbT/3v4Ojfu5KKaVcO6d+7koppbxzIOEAZqzhaPLRcstBC3ellCpjjUMb81m/zwitEOo++DzRwl0ppc6D/lf0p1rQ2UtV/l20cFdKqTIWkRTB5Z9dzoaTG8otB11mTymlylj7y9pjec2iy+wppdTF5FjKMe6ddy9xmXHlloMW7kopVcZ8jA87Y3eSkFV+gzC1WUYppcpYo9BGHHzqYLnmoDV3pZQqYxtPbsSMNWyPKb/BmVq4K6VUGetYpyPzh86nQeUG7oPPEy3clVKqjOUW5tKoSiPt566UUheT8MRwOk7qyK9Hfi23HPSBqlJKlbHrGlyHvF6+kzJqzV0ppcrY3vi9DJ07lCPJR8otBy3clVKqjAUHBJNTkENKTkq55aDNMkopVcaaVm3KwnsWlmsOWnNXSqkytvDQQsxYw/Ijy8stB48Kd2NMqDFmrjHmoDEm3BjT1RhTzRjzmzHmsO1nVVusMcZ8Zow5YozZY4zpeH4/glJKXVhuvvxmNj+8mXaXtSu3HDytuY8HfhWRlkA7IBx4CVglIs2BVbZtgFuA5rbXCODLMs1YKaUucMk5yeQX5VMpoFK55eC2cDfGVAG6A98CiEi+iKQCA4GptrCpwCDb+4HAD2K1GQg1xtQp88yVUuoCFZ4YTvfvuzP/4Pxyy8GTB6pNgATgO2NMOyAM+A9QW0RibTFxQG3b+3pAVLHzo237YlFKqUvAjU1u/Ef0c/cDOgJfikgHIIs/m2AAEBEBvPokxpgRxpjtxpjtCQnlNy2mUkqVtQ0nN3Dvz/eyM3ZnueXgSeEeDUSLyBbb9lyshX38meYW28/TtuOngOKz5dS37StBRCaJSCcR6VSzZs3S5q+UUhec2sG1qR1cm6yCrHLLwW3hLiJxQJQxpoVtV2/gALAQGGbbNwz4xfZ+IfCArddMFyCtWPONUkpd9JpXb84n/T7hhoY3lFsOnvaWeRqYbozZA7QH3gHeA/oaYw4DfWzbAEuBSOAIMBl4skwzVkqpC9yUnVMwYw3Tdk8rtxyMtbm8fHXq1Em2by+/Se2VUqosFVmKOJF2gmD/YGqH1HZ/QikZY8JEpJOjYzpCVSmlytiJtBNEpkTi51N+M7xo4a6UUmUsIimCkUtHMufAnHLLQScOU0qpMtavWT8OPXWoXHPQmrtSSpWxJRFLGLZgGGuOrSm3HLRwV0qpMnZF9SvocFmHcs1Bm2WUUqqMNa3alKevfRpfH99yy0Fr7kopVcbGbxlPjQ9r8L9N/yu3HLTmrpRSZWxU11EMazcM8W7KrTKlNXellCpje+L3sC1mGzkFOeWWgxbuSilVxo6nHuer7V8xe//scstBm2WUUqqMDWgxgAEtBpRrDlpzV0qpMvbjnh95fPHj/Hzg53LLQWvuSilVxrrU70KgbyBVKlQptxy0cFdKqTJWt1Jd6lWqR5B/ULnloM0ySilVxj7+42O6fdeN0ctHl1sOOp+7UkqdB1n5WRRYCgitEHre7uFqPndtllFKKS/kFuaSnJNM3Up1ncZsitpEWm4ajUMbn9fC3RWPmmWMMceNMXuNMbuMMdtt+6oZY34zxhy2/axq22+MMZ8ZY44YY/YYYzqezw+glFJ/p0OJh3hyievVQ+Mz41l9bDXzwuf9TVmdzZuaey8RSSy2/RKwSkTeM8a8ZNt+EbgFaG57dQa+tP1USqkL1saTG+lUtxOBfoEu4yoFVqJqUFWXMYNbDWZwq8FlmZ7XzuWB6kBgqu39VGBQsf0/iNVmINQYU+cc7qOUUufdJ5s/IT0v3W1cZn4moYGum1rGbx7PCyte4OvtX5dVel7ztOYuwApjjABfi8gkoLaIxNqOxwFnVoGtB0QVOzfati+22D6MMSOAEQANGzYsXfZKKVVGdsfvxt/X322cv48/dSq5rq8OaDGA6PRocgtzyyo9r3lac79BRDpibXIZaYzpXvygWLvceNXtRkQmiUgnEelUs2ZNb05VSqky16txL/IK89zGBfoFsuDgApcxVSpUof1l7el7eV+Xcc/++izxmfFe5ekpj2ruInLK9vO0MWY+cC0Qb4ypIyKxtmaX07bwU0CDYqfXt+1TSqkLloi4bW8HCE8I57oG17mM+fiPj4lIisDH+DDzzplO43o17kVwQLDXuXrCbeFujAkGfEQkw/b+JuBNYCEwDHjP9vMX2ykLgaeMMTOxPkhNK9Z8o5RSF6So9ChCAkLcxrW7rB1/RP/hMubtG9+moKiAQkuhy7gBLQZgjPEqT0950ixTG9hgjNkNbAWWiMivWAv1vsaYw0Af2zbAUiASOAJMBlz3GVJKqQtAck4yEUkRbuNyC3NJyEpwGbPs8DLWHF/D7vjdLuPqfVyPU+nnp2HDbc1dRCKBdg72JwG9HewXYGSZZKeUUn+DIksRl1e7nJY1WrqN3RG7gwZVGriMySnMIT4znrjMOLrU7+I07tSo89dirXPLKKUUEOQX5FFXyL5N+7Lm+BqXMUNaDeGJa55gbK+xLuN+Dv+Z/KJ8r/L0lE4/oJS65Pn6+BJaIZSErAS30wVsj9nOTU1vchkzZvUYgv2DKbQU8mqPV53GLT+ynH7N+hGI+we53tLCXSl1yUvLTWP63ul8fPPHbmMr+lekesXqLmMeu/oxMvMzicmIcRk3ecBkr/L0hjbLKKUueZUDKzO8/XAOJh50G9v+svZ8vu1zlzHGGOpUqsONTW50GXfn7DvP20AnrbkrpS55uYW5FBQVUC2omtvYTzd/ymNXP+Yy5rMtn+Hn48fa42vZ9PAmp3HD2w/H38f9qNjS0MJdKXXJyy7IJjU3lZoV3Y+Wf7zT47yz/h2XMR/0/QARcduHvXuj7viY89OAos0ySqlLXvWK1TmZfpKVkSvdxiZmJ7ptSpmxdwbrTqzj1yO/uoyr93E9xLuZWzymhbtS6pIXlxlHi+ot3M4FA7Dg4AJubnazy5hA30CyCrJYf2K9y7j0l9O15q6UUudLsH8wIQEhRKdHu4198YYXeXHlixRZipzG3NH6Dm5tfivjeo9zGlNkKWJymPaWUUqp8yY4IJhqQdU8mqFxcthkXu/xussa94hFI5gcNpmRS5wP1heEnXE7S5WvJ/SBqlLqkrc3fi8z983kv9f/121swyoNSc9LxyIWfI2vw5i3er2FIDSv3tzpdfx8/Pii/xelztkdrbkrpS557S5rx91t7nbbRg5wc7ObGb9lPHlFzud+T8lNwd/Hn051OzmNycrP4tbpt5YqX09o4a6UuuQlZCVQaCnk8mqXu40dOHMg424cR0X/ik5jJoVNYsnhJXT7rpvTmEC/QF6+4eVS5esJLdyVUpe81NxUsguyqVGxhtvY6UOms+zIMrLys5zGfHzzxzzQ7gF2Pua8Td1gXDbbnCst3JVSl7zm1ZuTlJ3EnP1z3MbuittFlcAqLh+oTtw6ke0x25m+Z7rTmJTcFPpOc9/1srS0cFdKXfJ2xu6kalBV7rvqPrexs/bN4s7WdxLkH+Q0pl6levj5+LH39F6nMTUq1mDvE86Pnyst3JVSl7wGVRpQK7gW+0/vdxs74dYJ3D33bmIznK8eOrjVYNpf1p73+rznNCY9L52vt39dqnw94XHhbozxNcbsNMYstm03McZsMcYcMcbMMsYE2PYH2raP2I43Pj+pK6VU2agcWJmQgBASsxPdxo5ePpofBv1AreBaTmMGzhzIokOLGDxrsNOYIksRCdmul+s7F97U3P8DhBfbfh/4RESaASnAw7b9DwMptv2f2OKUUuqCtTJyJb+f+J0ejXu4jb2h4Q3EZ8W7XEFp6qCp9GrSixeue8FpTNWgqozpPqZU+XrCo8LdGFMf6A98Y9s2wI3AXFvIVGCQ7f1A2za2473N+VreWymlysCtzW+lS70uHj1QHdxqMN/t+o7knGSnMRFJEeQX5dMktInTmBOpJ1zW7M+VpzX3T4H/AhbbdnUgVUQKbdvRQD3b+3pAFIDteJotvgRjzAhjzHZjzPaEhPP3p4lSSrkTkRSBr48vXRt0dRtb44MaTLhlAvUq13MaM33PdA4mHuTGH5wv1lE7pDZv9XqrVPl6wm3hboy5DTgtImFleWMRmSQinUSkU82a7udQVkqp8yU9L52CogKqBFZxGxv/fDzjN493uYTe+FvGc12D6wgfGe40xmAICQgpVb6e8KTmfj0wwBhzHJiJtTlmPBBqjDkzN0194JTt/SmgAYDteBUgqQxzVkqpMtWpbieyC7L5ftf3bmPnHphLm1ptqOBXwWnM2LVjiUiK4NPNnzqNOZ56nKeXPV2adD3itnAXkZdFpL6INAb+BawWkfuANcCdtrBhwC+29wtt29iOrxaR8zMbvVJKlYGFhxZijOHpzq4LWxFh3sF53NX6LpdL8nWs05GQgBCXs0y2qNGCRfcsKnXO7pxLP/cXgVHGmCNY29S/te3/Fqhu2z8KeOncUlRKqdL5YOMHzA+f7zauc73O1K1Ul40nN7qMM8Yw685ZdP++OztjnU8tcHuL26lbqS7v9nnXacyp9FNMCpvkNrfS8qpwF5G1InKb7X2kiFwrIs1E5C4RybPtz7VtN7MdjzwfiSullDtrjq/xqC95kH8Qgb6BZOZnuozLys/i3p/vZfn9y7mq9lVO466ZfA07Y3dyzeRrXF7PcP46EpoLocWkU6dOsn379vJOQyl1kTmcdJjggGDqVqrrMu67nd9xPPU4Y3uNdRmXX5TPysiVVA6sTOuarZ02zeQV5uHn48euuF1cXffqUufvjjEmTEQczius0w8opS5ar619zeXkXWcM7zCcplWbunwACtYFNno27snCQwuJy4xzGrfuxDqyCrIICQjBWQV626lt3PvzvW5zKy0t3JVSF626IXXp1sj5nOpn/BH1BxX8KnBX67tcxkWlRdFpUic+6PsBrWu2dhq3KGIRablpDJo1CItYHMa0qdXG5dwz50oLd6XURWtgy4EUWgrdxuUW5mIRC34+rlcebRTaiAMjD/D2urddTjL22S2f0aBKA8JHhuPr43gpvoKiAnILc93mVlpauCulLlrj1o8jPMH5QKIzejXpRaGlkMk7JruMS8xOZF74PLrW70r1imcNvLd7aulTxGbE8va6tykoKnAYE54YzvjN493mVlq6QLZS6qL1aMdHuaHhDW7jJmyZQKBfoNuJvLLys9h3eh+vdn/VZVz/5v2pFFgJg0Fw3ObepX4XutTv4ja30tKau1LqopWel86MvTPcxt3V5i7qV67PLwd/cRnXKLQRr/V4jf4z+rPsyDKncX2a9iHYP5hXur9CgG+Aw5j9p/fz7Y5vHR4rC1q4K6UuWm+te4tOdR32FCxBRPDz8XO5dB7AjtgdjFo+iiX3LuHW5rc6jWv5eUui0q0PX9Ny0xzGVPCr4HKU67nSfu5KqYvWsZRj+Pr40rBKQ5dxH2z8gNrBtRnWfpjLuJScFI6nHicjP4PGoY3dXvdI8hGahDZx+lD1XGk/d6XUJemd9e/wzY5v3Mb99/r/ElohlNHLR7uMq+BXgcahjdkRu8NlP/fZ+2eTXZBNVn6W066QCw8tZMSiEW5zKy0t3JVSF62sgiye7fKs27gFBxcQEhDCC9c7XzkJYPWx1YxeMZpnuzzLtfWudRq38eRG8grz+O/K/5KW57hZpm/Tvue1n7s2yyilLlphMWEcSz3Gna3vdBm39PBSAn0DaRTaiGbVmrm97ocbP+SaetfQs3HPUucWlxlHSk4KrWq2KvU1tFlGKXVJenzJ424fkgL2h6OTw1z3c98bv5cVR1fQu2lvmldr7jTurjl3kZabxlu/v+V0Ob498XuYf9D9jJWlpf3clVIXrf90/g8DWwx0G/fcr8/RvVF33u/7vsu47IJsUnJS6NdpbnUAACAASURBVNawm8uHpI9f/ThB/kFcFnKZ01GvN11+EzddfpPb3EpLa+5KqYtWtaBqPLX0Kbdx/9ft/6hXuZ7bmnvn+p0Z2nYoo1eMZta+WU7jOtTpgJ+PH49e/SiVAys7jFl/Yj3Tdk9zm1tpac1dKXVRyi3Mpf+M/sQ/73w1pDOScpLwMT7UqFjDZdy03dNIzknmi/5fuIzr8HUH9j6xl34/9uPHIT/StGrTs2JqVKzhdPRqWdAHqkqpi5KIkJidSEJ2gssZHAFeXvkyNze72e0D0rjMOPKL8jmReoKqQVVpW6uty/jTWaepFlTN7YRkpXVOD1SNMRWMMVuNMbuNMfuNMWNt+5sYY7YYY44YY2YZYwJs+wNt20dsxxuX5YdRSilP5BXl8dEfH3k0xP/dPu/i5+PHnbNd96rx8/EjJCCEqPQoErMTncZ9ue1LCi2FHE897nTmxy+3fcnzK553m1tpefJ1kgfcKCKZxhh/YIMxZhnW9VE/EZGZxpivgIeBL20/U0SkmTHmX8D7wNDzlL9SSjmUU5BDck4yk253v07pF9u+4PoG17uNnbZ7GoF+gTx5zZMu4yKSIhARvtr+FWO6jyEkIOSsmEc6PkKRFLnNrbS8apYxxlQENgBPAEuAy0Sk0BjTFXhDRG42xiy3vf/DGOMHxAE1xcWNtFlGKXU+HEk+wuKIxW4HMv1y8BeaVG1CQVGBR8vifb71c2pUrMHQtqWvtx5JPkJ+Ub7bJiNXzrmfuzHG1xizCzgN/AYcBVJF5Mws+NFAPdv7ekAUgO14GnDWxMfGmBHGmO3GmO0JCe4XsFVKKW9Ep0fzwm8v0KByA7exA1sOxMf48N2u71zGLYlYwrZT27i52c1c1+A6p3HdvutGoaWQt9e9zYnUEw5j9sTvYUv0Fre5lZZHhbuIFIlIe6A+cC3Q8lxvLCKTRKSTiHSqWbPmuV5OKaVKqBJYhZHXjOSO1ne4je0/oz+Z+ZlMvHWiyzix/asVXIvQCqFO497v8z6+xpfWNVtT0b+iw5ghrYYwvMNwt7mVllf93EUkFVgDdAVCbc0uYC30T9nenwIaANiOVwGSyiRbpZTyUEX/ilQOrEyvqb3cxk4fMp2aFWvy5u9vuoy77YrbuLbetXyx7QuntXwRoV6lehhjGNJqCDWDHVde54XPY87+Oe4/SCl50lumpjEm1PY+COgLhGMt5M88Wh4GnJnlfqFtG9vx1a7a25VS6nwIiw3jueXPsWDoArex4Qnh+Bgft10bRy0fxeKIxbx0w0s80/kZhzGC0OP7HgD0/qE3m6M3O4y7ovoVtKjRwm1upeX2gaox5ipgKuCL9ctgtoi8aYxpCswEqgE7gftFJM8YUwGYBnQAkoF/iUikq3voA1Wl1PmQlZ/FjtgddGvUzWXck0ueZFTXUW4nDYvNiCU4IJh9p/dhEYvbJfyyC7IJ9A10OFXBmbLXGOPmUzh3Tg9URWSPiHQQkatEpK2IvGnbHyki14pIMxG5S0TybPtzbdvNbMddFuxKKXU+RKdH89O+n/h+1/duY7/o/wVFliI6ft3RZVxmfiYiQlZ+Fln5WQ5jCi2FfLDxAwB2xu4kJTfFYdwrq1/hnfXvuM2ttHT6AaXURSklJ4XM/Ey+Heh+ENPLK1/mqWufYsNDG1zGfbblM/7V9l/0vbyvy7j0vHTAOpVwpcBKDqc1eKf3O5zPFmudfkApddFKzknmzd/f5NN+n7qMmxc+j671u7Lv9D63BTfA1F1TSclN8WghEGfCYsKo6F9R53NXSilvrIpcxUebPnLZH/2MIa2G4Ovjy6z9zmd6BJiwZQLHUo5xc7Obuav1XQ5jsguy6fxNZwDeXf8uu+N2O4wLTwznWOoxt7mVljbLKKUuSm1qtaF2SG23PWAAmo5vyu8P/s43A1yvt1q9YnUC/QIJ9A0kn3yHMYG+gXw7wNoU1LVBV6ddIe+/6n63eZ0LrbkrpS5KlQIqUTmwMjU/dD9I8uBTBwkJCOGxRY+5jLv3ynupW6kuiyMWM3mH47nfBcHXWHvH9GjUgzohdRzGfbHtC5ZELHGbW2lp4a6UuijNOTCHCVsmcGrUKbexy48sx8f4cEvzW1zG9fy+J4cSD/Hvdv9mTPcxDmMy8zN5ZNEjAAyaNYiFhxY6jOvWsBttarVxm1tp6QNVpdRFq8hSxIKDC9xOQTBswTA+v/VzKvpXdLnmakJWAqEVQtkdv5uYjBgGtBjg8roi4rQfe05BDr4+vgT4Brj/IE7oA1Wl1CVn66mtbDi5gdkHZruNnTpoKkWWIqq9X81l3JHkIxRJEQbj9EsgIy/D3n99w8kNTicOG71iNDP3zXSbW2lp4a6Uuiil56WTkZ/BrDtd94ABuOfnewjyDyL1pVSXcR9v/pj0vHSurns1t11xm8MYY4x9srAdsTuIzYx1GPdF/y94oN0DbnMrLW2WUUpd1O6eczfTh0zH39ffacy88HncfsXtzDkwh3uvvNftNeeHz2dT1CY+vOnDUue1MnIljao0onn15qW+hjbLKKUuCvf8fA8n0056FDthywR+2P0D9155r8t2dBHhtituwxjD8qPLXV7zmWXPkFOQQ++mvRl93WiHMTEZMVz3rbVv/UebPmL1sdUO406knnA6NUFZ0H7uSql/jBsb3+jxkP1BLQfh6+NL9aDqLgv3IimiyntVyHklh6mDprq8ZofLOuDn40dOYQ6Z+ZkOY2oF12Lmnda29Bub3Oi0n/vDHR/26HOUltbclVL/GDvjdlI5sLJHsQG+AQT7B9Po00Yua8h+Pn7kvJIDwG0zbsMiFqexwzsMx9/Xn7CYML7Z4XjAU6Gl0L54dquaragVXMth3KurX2XdiXUefZbS0MJdKVWudsft5kDCAY9ifYwPjy12PdDojAlbJ7D08FLino+jWpDzXjAFRQX8uOdHAJ685kkMjrsuigiV3q2EiND38r681+c9h3FJ2UmMWz8OgNHLR/PT3p8cxg1tO5RWNUo/r4w7+kBVKVWuZuydQbB/MANbDnQbm5WfRW5hLtUrnrUss1Oz9s3itituIzgg2OHxnIIcnlv+HF/d9hXpeelUCqjksG+6iJCZn0mlwErsO72PLdFbzqlpJTE7kZCAECr4VSj1NfSBqlLqgrU4YjEFlgKPYqt9UI3d8bvJLsh2Gzv3wFz2n97P1lNbyS3MdRoX5B/EV7d9BUCLiS2cXrvQUsj6k+ut5/gFOf2Cic+M5+11bwOw/sR69p3e5zDuueXPsfHkRrefo7S0cFdKlashrYaQkuNZr5HcV3KZuW8mcZlxbmOLLEUIwkc3f+Sypp+ck8zQuUMBiB0d67SGn1+Uzw+7fwDg8mqXM6jlIIdx/r7+NKrSCICo9Ch7+/tfTRs8jd5Ne7v9HKXlyRqqDYwxa4wxB4wx+40x/7Htr2aM+c0Yc9j2s6ptvzHGfGaMOWKM2WOMcb20iVLqkpaUneTRnOaFlkLmHJjDpNsn0bRqU7fxQ9sOpW2ttjz0y0Muu08G+wfzRKcnAPhu53dOa/nBAcH2XjBrj6+1fyH8VbWgavy73b8B60RjPRv3dBg3a98sp6NXy4InNfdCYLSItAa6ACONMa2Bl4BVItIcWGXbBrgFaG57jQC+LPOslVIXjYOJB10+8DyjoKiAZUeWsf7Eej7d7HrxDYCHfnmIjSc38kjHR6ge5Lzm7ufjR7va7QDYn7CfQkuhw7jE7ERGLhkJQNf6Xfmyv+Oi7UDCAbp9Z12zdeLWicze73j6g5TcFI+bo0rD6weqxphfgIm2V08RiTXG1AHWikgLY8zXtvc/2eIPnYlzdk19oKrUpevHPT+y/sR6vr79a4/io9OjOZl20u0iHFFpUVQNqkpBUQEhASFOR6geTz3OHbPvIGxEmMvrZeVnserYKga0GEBqbiqRKZF0rHN2w0ShpZCMvAyqBlXlaPJRAv0CqV+5vkefzVtl9kDVGNMY6ABsAWoXK7DjgNq29/WAqGKnRdv2/fVaI4wx240x2xMSErxJQyl1Efn1yK98dPNHbuMSshIY/stw6lWqxzV1r3Ebn1WQhcFw55w72Z+w32lc49DG9oL9jtl3cDrrtMO4iv4Vuf2K2wHr6NKpuxwPeMouyOZg4kEAagbXpEpgFYdxw38Z7nSVprLgceFujAkBfgaeFZH04sfEWv336k8AEZkkIp1EpFPNmu4n01dKXZw61+vM2uNr3cYFBwRz35X3sf7kem7+8Wa38ePWj+NY6jFWPbCK9pe1dxqXmJ3I9D3TAXjhuhecDpLad3ofV311FQDtLmvH+FvGO4yLz4xn2p5pgLVZZupux18CL13/EpdXu9zt5ygtj6YfMMb4Yy3Yp4vIPNvueGNMnWLNMme+7k4BDYqdXt+2TymlShAROtfvzObozW5jA30Dua7BdVT0r8jqYY7naylu2mBrATv3wFy61O/itGkkrzDP/sC1cWhj/HwcF4tX1r6SPY/vAeBYyjFm7J3BK91fOSuuefXmfNH/CwD+r9v/Of88foFO71UWPOktY4BvgXAR+bjYoYXAMNv7YcAvxfY/YOs10wVIc9XerpS6dCVmJ3LH7Dt4pvMzbmMPJByg9w+9SclJ4ZeDv7iNf3/D+yRkJRCTEUNOQY7TuHqV6/Fyt5cBuHP2nUSlRTmMS8hK4LfI3wDrXxGta7Z2GHc0+Shv/f4WABtPbmRT1CaHcaOWj+Jo8lG3n6O0PGmWuR74N3CjMWaX7XUr8B7Q1xhzGOhj2wZYCkQCR4DJwJNln7ZS6mJQM7gmK+5fwROLn3Abe2XtK/nj4T/ILsjmj+g/3MZXC6qGn48fz3R+xuW0uvtO7+PRhY8CsOGhDTSp2sRhXHJOMn9EWe9bK7gWg1sNdhhXKbASHep0AKxL7jmbYGze0Hm6zJ5S6uJ0Ous0K46uoFWNVlxd92qXsafST7Ejdge3t7jdq3uMWj6KO1rdwfUNr3d4PCMvg+Opx7my9pVM2TmF26+43elMjmfsO72Phxc+zJZHtniVS3ETt07k7jZ3O51YzBM6/YBS6oKUnpfOsZRjHnUVzMjPICIpgpScFKcDiIq76surSMxOZMTVI5w2oYC1n/uZwjw1N9VpP/dtp7bx+prXAWhVoxVrhq1xGLfh5AZunHojYO3m+dEmxz2BfIyP00nKyoLW3JVS5epE6gnunnu3x7Xg/KJ8awHa5EaXcbEZsdQKrkVidiLBAcGEBIQ4jNsUtYkJWyfw0x2OZ28843TWaY6nHufaeteSmZ/JlugtDqcPsIiFQkshAb4BxGfGU2ApuPD7uSulVFlacXQFM/bO8Khg//3477y25jX8ffztI0pdOZx8GGMMb/7+Jr8f/91p3HUNrrMX7PfPu9/pRF+hFUK5staVAKTlpjHnwByHcYnZiWyJtn6eIP8gp7XzG6fe6PGqUqWhhbtSqtxcVfsq+jXrx4QtE9zGtq7ZmqFthiIILSa2cLsi09jfx2IRC5/3/5z+V/R3Gnc46bB9ioBXu79Kk1DHD1QXHlrIk0ut/UPqVa5nn0nyr+Iy41gZuRKwzkHjbKqEbwd8S52QOi4/w7nQwl0pVabunnO3vebqTkX/ijQKbURMRoxHsfUq18PH+JD430SHc64Xt+qBVfj5+LHo0CKXI0ELLYX2ycJcza1+Z+s7+W7gd4C1dv7U0qccxl1V+yrG9hoLwIAWA5wuop2Wl4Z4N/bTK1q4K6XKTKGlkJiMGK6qfZVH8ZPCJjFl5xTe7fOu29hfDv1inyd9Utgkl3O05xfl2wvf/KJ8pw9JwboU3gPtHgBgzJoxTleF2n96v715J8gviL5N+zqM2xm7057nkeQjfL/re4dxL696mbTcNKd5nStdIFspVWZEhMEtB5ORn0GQf5Db+Oevex6ALt90Yd3wdQT4BjiNvffKe7n3ynsBiEyJdFlgG4x9Uq87Wt/hModlh5ex+thqPrzpQ/uoVkeScpKITo8GbPPMOOmSWadSHXo06gFYe8Q4G4W67L5lLvM6V9pbRilVZvIK8xj7+1h6NOrBzc3cz/+y9PBSmoQ2Ibcwl3aXtcPHOG9MOLOiUvdG3b3Kady6cTQObcx9V93n8Hhabhrpeek0qNKAqbumcl2D61wOegLr/DHtvmpH3PNnLxpSZCnCIhans1CeMWb1GF6+4WWni4N4QnvLKKX+FosiFnEq45RHBTtYR33mFOZQKbASRZYil7FZ+Vlk5GUA8K+5/3K50EVMRgwtJrYA4KEOD3FL81ucxhZJkb393s/Hz+kXzIy9M/hym3UO99ohtR0W7GD9wjrTDz88IZz+Mxw/zK0TUgdfH1+neZ0rrbkrpcrUgoMLCPIL8riAB+j+XXdm3zWby0Iu8yh+Z+xOWtZo6bTpxyIWsguyCQkIITYjFh/jQ+2Q2g5j54fPZ0fsDt668S2X94xKi6LAUkDTqk3JL8pnfvh8hrZ1PZgqrzCP+Kx4GlZp6NHn8pbW3JVSf4ulh5eSmZ9JjYo1PIp/YP4D7Du9j3XD17kt2MdvHm9/OHlZyGUue8tk5GUQFmOdo33W/lksObzEaezgVoPtBfvjix/nt6O/OYyrHFiZmhWtI1kLLYX2ScT+6kTqCdYcs45eNcaQlJ3kMK7J+CYeLfRdWlq4K6UcmrZ7GhtPbvTqnFPpp7iy1pVu54k54/+6/R9NQpvwxbYviM1wPXnsna3vpF+zfgA8vexpp4ONwNpVcV64dXbyZ7s8y0MdHnIauylqEwsPLQTgtR6v0bVBV4dxX4d9zZSdUwDrA9VvBnzjMO501ml7bul56by86mWHcX88/AdBfu4fOpeWFu5KKYc2R2/my+3eLYH86NWPsj1mO8+veN6jeB/jQ6BfIL7Gfduzj/Gx90Ofe/dcOtV12BoBwOXVLrcvprEqchUrjq5wGhvgG2C/bk5BDnmFeQ7j/nv9f/lPl/8A1vVcB84c6DDumnrX8HTnpwGoUbEGv97/q8M4Z10uy4oW7koph17v+Trv9nbf//yMIksRXb/tytC2Q3mrl+v26zPun3c/WflZPNbpMepUcj1a84ttX7D8yHIA5uyfQ0RShNPYsJgwPtxoHTxUwa+Cy8FJnep24qbLbwJgys4phMU6Xkt1ZeRKdsTuAMDXx5fHrn7MYdza42t5Z/07gPV38tyvzzmMG7d+3HkdxKT93JVSDg34aQCju46mQZUG7oNtJt4ykaz8LKLToz1qmtn66FYAhi0YxoiOI5xOywuUeOCZW5jrsp977ZDaXFvvWgCX1wR4d/27hFYI5YlrnmBc73FO4zLzM+1fEj7Gh+sbOL5ui+otqFqhqj2uUWgjROSsZwSrHljlMq9zJiLl/rr66qtFKXVh2X5qu9w+43aP41NzUiU6LVo2ndwkb6x5w218TkGOvPX7WyIiEpUWJVn5WS7jf9r7k+yL3+dRLkWWIrFYLCIiMjlssst8UnJSJCUnRUREpu+ZLpujNnt0j8rvVpYiS9FZ+3MLciUjL8PluQVFBfLYosc8uo8rwHZxUq5qs4xSyqHTWaf5+e6fPY7femor7214j64NuvJ6z9fdxlvEYq8J5xXmuVwKD6y14DN90F9f8zo/H3Ce29fbv7ZPP3B3m7tdLuMXlxlHQVEBANWDqjudGnjM6jEsOrTIvp32UprDPvHzD87nhRUv2LdbTmx5Vo8Zg+Gautc4zalMOCv1z7yAKVgXv95XbF814DfgsO1nVdt+A3yGdYm9PUBHd9cXrbkrdUEaPHOwvLDiBSksKvTqvMjkSHll1StenfPKqlfk18O/ehwflRYlydnJLmPO1NxjM2IlIjHCadxrq1+TFUdWuL3n8ZTjkpiVaN/+evvXUlBU4Pa8hKwEhzX8ssA51ty/B/r9Zd9LwCoRaQ6ssm0D3AI0t71GAN49aldKXTDmDZ1HreBaLtu2i/v9+O8sP7KcKhWq0KV+F7fxu+J2MXiWdR3St2982+2gp/vm3cfm6M0A+Bpf8ovyncbujN1p742yJXoL8w/Odxo7ttdY+l5unQTsxd9edDrRl4/xKTH3zb7T+7CI5ay4AwkHWBX5Z3v64aTDZ/1VkpGXwWX/82zAVqk5K/WlZO29MSVr7oeAOrb3dYBDtvdfA/c4inP10pq7UudPTkGOnEw96dU58Znx8tSSp7w6Z8OJDbIqcpWI/FlrdiW3IFei0qJEROTnAz/L78d/dxkfnRZtb5f/5I9P5Juwb5zG/rT3J/nl4C8e5f3hxg/lSNIREbE+N3DW9v/k4idl5dGVbq+38eRG+XH3j/bthxY8JMdTjpeIsVgskpmX6VF+ruCi5l7awj212HtzZhtYDNxQ7NgqoJOTa44AtgPbGzZseM4fUinl2OJDi6Xz5M5enZOemy6LDi2SoXOGyvoT670693Tmaan5QU23cQlZCXI46bCIiKyOXC07Yna4jN8bv9ftQ1dHtkRvkSk7pjg9Pnf/XInNiBURkYjECDmResKj6946/VZJz033Oh8R6xfb0oilpTq3OFeF+zk/ULXdwOvOmiIySUQ6iUinmjVdrzSulCq9no17svKBlV6dU9G/Irc2v5Xx/cZ7/ODvhRUvMGf/HGpUrEHsaNejTcHaF33qrqkA9GrSiw51OriMf3fDu/Ypd9edWMeSCOdTCnyw8QP7FAChFUJdrmF6R+s77FMf/Bb5m9OFRqbsnEJkSqR9+5VurzjsPz8vfJ69jz3A+xve52DiwRIxOYU5zNg3w2lOZcJZqS+ua+7aLKPUP8TTS5+W22bc5tU5Cw8ulIE/DZRjKcfOalJwJiErQdJy00REZNa+WV49RPxo00fy7vp3PY7fEr3F3gTkyM7YnRKdFu3RtVpMaCGn0k+5jZu6a6ocSzlm345Jj3H4sDk2I1aOJh+1by+JWCIx6TEe5eItzkOzzIfAS7b3LwEf2N73B5ZhbarpAmz15PpauCt1/lgsFrltxm2SV5jn9XmTtk+SH3b94FH83vi99sL9/nn3S25Brsv4pRFLZfGhxSIikpGX4bZv+Btr3pCk7CSPcknPTbcXvEsilsg9c+9xGpuak2r/Ivr5wM/2nNzp8FUHicuIO2t/Wm6a2zwTshLkycVPenQfV1wV7m6bZYwxPwF/AC2MMdHGmIeB94C+xpjDQB/bNsBSIBJrV8jJwJOl+GNCKVWG5oXPY/qQ6S5XOfqrPfF72BW3i0evfpR/t/u3R+dM3DrR3mwxbfA0Av0CXcZXC6pG9YrVAUjNTbU3uThTt1Jd/H2sC2DMPTDX6bB+gKFzh9p71vRp2odJt09yGCcibDi5AYN19GiDyg2oV7mew9gBPw0oMVnZjsd2OJxG+OcDP/PZls/s2/fPu585++eUiPF2SuTS0PnclbrIPfvrswT5BXFH6ztcTrZV3MJDC8krzKNFjRb8fvx3+0RYnnps0WO83vN16laq6/H9IlMiebbLsx7FZ+ZnkleYZ/9ycCUxO5HIlEj7dATFFRQVcMfsO1h4z0K314lKi6JmcE17O/uksEkMbTOUKhWquDwvrzAPf1//EgOeRARBXK485Qmdz12pS9in/T7l1ua3UifE9cRcxQ1oMYC72txFaIVQmlVr5tE5L6/8c8Hnu9vcTeXAyi7jH1/8OLP3z7bfz13B3mR8E7LyswDrotdxmY5XQgL4cc+P9lyi0qKYH+64n7u/r3+Jgv29De8xdu1Yh7HJOckltpOykxyOAdgcvblEP/eDiQc5lnKsRMzh5MO0nNjSaf5lwll7zd/50jZ3pc6Po8lH5aEFD4nFYnHbBl7cuHXjZM2xNV7da3LYZMnOzxYRa996d6M3M/My7fHbTm2TL7Z+4TI+LiPO3n9+48mNMnr5aKexr6x6pcRoUmfiM+Pl2WXP2rfzCvMkvzDfYeygmYPs/fJdWXd8nSyJWGLfnrR9UontssS5PlA93y8t3JVyLSs/y+NeK8Wl56bL5qjN8vX2r2XkkpEen7c7brfEpMdIUnaS1PlfHa/ve8uPt8jaY2tdxvwR9Yd9wq7I5EiXA4QsFovL3jGuRCRGOJ04LC03rcRgp4jECNkbv9ej6w6eObhErxhvJGcny6JDi0p1bnGuCndtllHqHyD4nWCni0O4UiRFtKnVhkc6PsLEWyd6fF79yvWpFVyLqhWqcvSZo27j0/PSafRpI/v20vuW0qNxD5fnzNw3k5iMGACaVG1C76a9ncYWWgp5f+P79u1jKcf4YOMHTuO7f9fd3mQSWiHUYXs7QKWAStx+xe327f0J+9ke4/j535jVY+wLdIN1ygRHzxQmh03m082f2rfnHpjLT3t/KhGTkZ/h9SpXXnNW6v+dL625K+VakaWoVJNPTdgyQcatGyfpueny096fPD7vhik3yP7T+0VEZMWRFfYujs5YLJYSE3mtjlwthxIPeXy/dcfXSd8f+nocH5cRJ7P3zXaai6ejaldFrpLeU3t7FPvlti/tzUgi1r82cgpyzoo7nXnaPuJVRGT/6f0eT1XsLbRZRql/roSsBJkfPl8WhC+Q+eHzS3WN1JzUEm3L3nh22bMlBu84u/6GExvs21N2TJFNJze5PGfkkpGSmpMqIiKFRYUunwl4k39hUWGJuXT2xO2Rdl+2cxl/xrLDy1zOWVPc4JmD7V+AxcVlxJXo/15kKTqrHf9gwsFS/38U56pw12YZpS5wablpHEg4QIMqDWhUpZH7E4r5YfcPRKdHU6VCFT7p94nH503YMsE+4+En/T6hcWhjl/HxWfHM2j/Lvj28w3CnC02fcUPDG+zdCrMKsthwcoPTWH9ff66p9+c0CMdTj9P+q/YOYxOzExkye4h9u22ttoSNcLx0XmRKJNtittm3L696Oe0vc3zdeh/XKzET5byh82hds/VZcfPC5zHnwJ/92r/Z8Q3/+fU/JWJqh9TmjtZ3OLxPmXFW6v+dL625q0uBu9qvJ7Lzsz2acfGMiVsm2muxw+YPs0/UFenf9QAAENdJREFU5UqRpUieXfZsiZWMFh5c6FWek8Mmy9RdU50et1gsJT7HidQTXs1CWVhUaK/1u5ORl+F01OmaY2vky21flsjL2fz18ZnxJXKetH2S17NtnlFQVOB2RK4n0Jq7UuVrb/xeHlzwoMs5yJ0Zt24ciyMWA9Dy85YkZCd4fO7Ia0fa10B9+tqn7RNkueJjfPik3yf2NT+vqXuNwxpqcZuiNvH51s/t2zc2uZEejZw/UE3PS6f6B38OQGpYpSETbp3gND48IZwOX/85sZhFLGw9tdVhbExGTIk52bPys1h2ZJnD2J6Ne/J4p8ft21N2TuHxxY+fFWcRC/tO7yuxDqqvj6/Da644usI+aRnAybSTrD62ukTMlugt3Dn7Tofnlxlnpf7f+dKau7qY7YvfJ6k5qVJYVOj1qkYiIkeSjtgf0HnzUDUqLUp6ft/Tvp2emy6nM0+7PW/TyU3yxOIn7NtFliK3c49HJkeWeIiZmZfpdqWk4v3gU3JS5JFfHnEaW2QpKvEwMys/SwbPHOww9kTqCZm4ZaLLe5/x4+4fZcaeGW7jcgtypd+P/Ty65ppja0o8f9h+aruM3zzeo3O9hT5QVar8PLvsWdl4cqP8sOuHEoWmpyISI+zNAZujNsu2U9s8Oi+/ML9EP+wvtn7h0cyL6bnpJXq6zA+f73LiLZGzF+f4fuf38uJvLzqNT85OLrGsXm5BriwIX+A0PjEr0e1iHs6k5KTIsPnDHB47lHioxGdNzUmVnw/87NF17/v5PrcPjZ05mXrS66YuR7RwV6qUtkRv8aqN25Wcghyva+55hXnS5vM29hr7Lwd/8XiRh5OpJz0aUflXJ1JPeNyefcYba95wOlDIkaPJR+Wl316yb1ssFqcjQ0Ws3QmLx4tYnyE4GgW7/Mhyee7X5+zbOQU5Tn9nWflZJe6bkJXgcORrWm6a/GfZf0rsi0qLcrh4yLvr3y3Rjr8vft9Z5+4/vb9MavNauCtVCoVFhTJo5iDZGr1VwhPCS3WNsJgw+WDDB/btnw/87HXBWVpTdkwpUcik5qTKhxs/dHve/638vxK16Oz8bJcrGYmc/SDySNIRmbt/rse5WiwWqfVhLbdNOcVN3zPd4Zdlak7qWaN5s/KzHPZJf2LxEzJt9zS398rKz5Lpe6aX2Hcw4aB9hG1xSdlJJfYnZyfL5qjNbu9RGq4Kd32gqpQDeYV5ZBdkM3/ofA4nH3bZTc+VWsG1SnTh2x23m5TcFI/PXxyxuMQkVKfSTzHgpwEenTu8w/ASDwsDfAMoshS5PW9c73EMbPnnaFgf48Pu+N0uz/kj+g+i0qPs2/lF+aTmpjqNX39ifYkRpsYYYkbFUDWoqsP47THb/7+9c49tq7rj+PcnCtvKxF5MiFEYTMCmwpiAsvLSNI0JMVENJFAFpahUjBZpUDoGhUxtAQGiBVqxskJbKIO+S0kfaUkhzaNvCE3zIGmaR5O4qVPHdhInsR0nfn33x7Xv4lzbcVI/iHM+UhTfY59zf8eP7z3nd3/nd7D08NKIsoevfzhqVkVvwGtIbzxr5ywcOn3I8Nr37n0PM2+YGVH2dP7TqLBURJRNPH8iZvx2RmTdY+/pm3APxtRtwnny/5utF33vIlzzs2siXnO49TByCnMMdZNKLNVP558auSuSxfy980e8KUU0CpsKOX3b9Iiy0bhnznWUftB0kKXmUv3Y6/eywlKRUN3FxYtHvANQMBjkgoIFcV0k0Vjx9YoR7bVq7jEb7h1UWipj5qMx95gN7U9aPinqbkvrKtdxyaElEWWxPrtddbsMbVRaKg2fW0NHA69/7/ronRnC3N1zIxY3NXU1ccqaKRGv6XB3JJzDJh5QbhlFthOO3175zUr6A/5RJdkayuDIlPyGfM7eOXvEbVy38rqILdxaHC0JR13EirlucbQkFCO9oWqDIW3AzO0z42Z79AV8XH50uUEMZ+2YNaJ0AiQ5bdM0Vloqoz7n8XkMF5CSlpKYKQX8Ab8hUmi4rJODae1uNbhVSG17v6H9cnvdEekDSGO0DkmuLV/LqvaqhG0Yeo5EslYOhxJ3RcYJi9Qbh94YdSa9WDgHnLx97e264LkGXLx59c2jXiRSba02RJW4BlyjGoUPFbBAMMBaW21Cdc09Zl777rWG8tk7Z/OrM1/FrTt0kVAYi9MyqplNpaUy7vs5f+98g0i2drfGvIH81pG3+FLJSwmff0PVBj6R90RE2d7GvVF93rvrd/Og6WBEmclh4rul7yZ0rm0ntvG5L5+LKOvq62Jxc3FE2a66XYZFYSUtJYbz9Pv6uerYqoiyvLo8zsmbk5A98Ui7uAO4B9rm2KcQ2ms13p8S9/TiHHAmLQIkEXJrc/n4rsdJalNm14CLB0wHuOLrFefctrnHTH/Ab+hPONGW3W0fcZtWlzVqdEVjZ+OI0rTmFOYYRoDkyML6hosvj8U35m9450d3Gsrbne1xk1htrt7MJ3c/aSjv6uuKe7PzoOmgQWidA85h0/4OJhgM8rYPb4t5ER16Q/T5guejrvotbCqMcGXFY/q26QltpN3Y2Rg1isbqskYcmxwmw7k9Po/hYpEs0iruAM4D0ATgVwAuAFAFYHK8Okrck0tZWxn7vH1s6mrSIzUWFCzg6rLVJMlL376UPf093N+yX//CFjcXj3opdSye+/I5lppL2e/rN4SMtXa38kjrEQaDQe6p3zPqi81jOx+LmQf884bPOXf33BG1l1eXF1WQSS0B1ZqyNQm1EwwG+XHFx1F917W2WkNYXzQ2V2/m6e7TUZ+btWNWTN972J0z1I1AamGCrx98PeY5fQFfVHF99cCrXFu+NmqdPfV7oo7qLU5LTFfWusp1rLPXGcprbbUGd0vBqQJuqd4StR2ry5rwwq7p26azrK0soqzUXGq4aASCAS4uXjzsd7LP28frVl4XcQFOdDBRY61JygYe6Rb32wB8Oeg4B0BOvDrnIu5z8uawpKWEvf29vHHVjSS1Kdyi4kUktQ+01FzKs71nOfWDqSS11J2vHXiNJHn3+rtZba1mQ0eDPtJZcmgJ3z7yNknyljW3sKmrieVny/XUoDmFOVz5zUqS5NUrrqbVZeUB0wHev+V+kpqohVe93fD+DXR73SxuLtazwC0sWsjCpkIGggE9zWlJSwmXHV1GUnNdlJ8tp9vr1he9lLSU6CFbi4oXsdZWS5vLxkdyHyGp3dB6Zf8rJMkZuTPY3NVMm8vGrTVbSWpxukOFxuFx6D+wZUeX8fjZ4+xwd3DyyskkNaEL5wd57cBrbHG0sN3ZzoVFC0lq09/wRgfhUWpVexWnbZpGUrvIDJcq1uay6QtM1let1xeQvLDvBdrddp7qPMWlh5eS1ELfipqLGAgGeNPqm+gacMX9YQeDQToHnLS77foinPyGfD1Eb2HRQj0WPCy2bxx6Y1jf8p76PfqsY+nhpWzqaqLdbWdOYQ5JcnXZav37EY+tNVv1/i4qXkSL00KTw8RXD7xKklx+dHnMUeW37d/S6/dy2dFlrGqvotvr5rNfPEtS8wUvP7o87rk3frtRX0U5L38eB/wD/Lzhc87Lnxe33trytayx1tA14OKzXzzLYDDI+Xvnx42nf7nkZZocJlqcFi4uXkySXHVsVdSLqNVl1S8++5r28dOaT1ltreaR1iNR256RO4PFzcU8YTuhu0Me2PoAC04VGF5rcpjY2Nmo27C+aj23126P2u6SQ0vY1tumf9ffPPym4SYtqbkbm7ua+ebhN+kP+HnlO1dGnW1N/WAqvX4v8xvyuePkDpa1lSW0MnY40i3uDwL4cNDxowD+E+V1cwCUASi74oorRt251u5WOgec9Af8uv+r29OtT5faetvY5+2jL+DTR6Y9/T36FLPd2a5vrRWu4xxw6iORDncH/QE/vX6vPu0cHDPb7enWU3qGRzydfZ16/fqOegaCATo8Dt3XXGevo81lYzAY5L6mfXo/wqOK/S372dbbxn5fvy7oJ2wn9GiBouYi2lw2enwe3Q/Y29876in8YILBoB5hUWev00eHubW5tLlsdHgcel7wY23H9IiHbSe20eFxsM/bN+IIjTA11ho9nnzTt5vY299Li9Oi/wCPtB7RXQr1HfUJLwjq9nTrKwkrLBX6tHnHyR16THK81ZFDMTlMejREbm0uLU4Le/t7uaFqA0ltEVAiy/zr7HX6+7e5ejMdHgftbvuI4sMLThXwTM8Z9vv69VS1jZ2NUUftg9nXtE/3/a86toq+gI8OjyMiVW00tlRv4enu0/T4PDFH8kPZcXIH7W47u/q6hs0p3+Jo0d/HqvaqmKIeJjzKNzlM+opPi9MS86Lf2depp02uaq+Ku36hp7+H6yrXkdRG5LF+X4Nzy8ca7Yd/p8fPHk9qzHs8cRft+eQhIg8CuIfk30LHjwKYSvKpWHWmTJnCsrLou58oFAqFIjoicpzklGjPpWIRUxuAywcdTwqVKRQKhSJNpELcjwG4RkSuEpELADwEIC8F51EoFApFDCYku0GSfhF5CsCX0CJnPiJ5ItnnUSgUCkVski7uAEAyH0B+KtpWKBQKxfCoxGEKhUKRhShxVygUiixEibtCoVBkIUrcFQqFIgtJ+iKmURkhYgdwepTVLwbQkURzxgKqz+MD1efxwbn0+Zckfx7tie+EuJ8LIlIWa4VWtqL6PD5QfR4fpKrPyi2jUCgUWYgSd4VCochCskHc12TagAyg+jw+UH0eH6Skz2Pe565QKBQKI9kwclcoFArFEJS4KxQKRRYypsVdRO4RkXoROSUiL2banlQjIpeLSImI1IrICRF5JtM2pQMROU9EKkRkT6ZtSQci8mMR+UxE6kTkpIjclmmbUo2I/CP0na4Rkc0i8v1M25RsROQjEbGJSM2gsp+KyD4RaQz9/0myzjdmxV1EzgOwEsBfAEwG8LCITM6sVSnHD+CfJCcDuBXA38dBnwHgGQAnM21EGvk3gC9I/gbA75DlfReRywDMAzCF5PXQUoU/lFmrUsLHAO4ZUvYigCKS1wAoCh0nhTEr7gB+D+AUyWaSXgBbANyXYZtSCkkLyfLQYye0H/1lmbUqtYjIJAD3Avgw07akAxH5EYA/AFgLACS9JLsza1VamADgByIyAcBEAGczbE/SIXkQQNeQ4vsAfBJ6/AmA+5N1vrEs7pcBODPo2IwsF7rBiMiVAG4EUJpZS1LOOwAWAAhm2pA0cRUAO4D/hlxRH4rIhZk2KpWQbAPwNoBWABYAPSQLMmtV2riEpCX0uB3AJclqeCyL+7hFRH4IIBfAfJK9mbYnVYjINAA2ksczbUsamQDgJgDvk7wRgBtJnKp/Fwn5me+DdmH7BYALRWRmZq1KP9Ti0pMWmz6WxX1cbsQtIudDE/aNJLdn2p4UcweAv4qICZrb7U8isiGzJqUcMwAzyfCM7DNoYp/N/BlAC0k7SR+A7QBuz7BN6cIqIpcCQOi/LVkNj2VxH3cbcYuIQPPFniS5PNP2pBqSOSQnkbwS2udbTDKrR3Qk2wGcEZFfh4ruAlCbQZPSQSuAW0VkYug7fhey/CbyIPIAzAo9ngVgV7IaTskequlgnG7EfQeARwFUi0hlqOxfoT1rFdnD0wA2hgYtzQBmZ9ielEKyVEQ+A1AOLSKsAlmYhkBENgP4I4CLRcQM4CUASwB8KiKPQ0t7Pj1p51PpBxQKhSL7GMtuGYVCoVDEQIm7QqFQZCFK3BUKhSILUeKuUCgUWYgSd4VCochClLgrFApFFqLEXaFQKLKQ/wFaWDoMYe+1XQAAAABJRU5ErkJggg==\n"
                },
                "metadata": {
                  "needs_background": "light"
                }
              }
            ]
          }
        },
        "1aac7cd613754c58a09a1ffe8e6429b7": {
          "model_module": "@jupyter-widgets/base",
          "model_name": "LayoutModel",
          "model_module_version": "1.2.0",
          "state": {
            "_model_module": "@jupyter-widgets/base",
            "_model_module_version": "1.2.0",
            "_model_name": "LayoutModel",
            "_view_count": null,
            "_view_module": "@jupyter-widgets/base",
            "_view_module_version": "1.2.0",
            "_view_name": "LayoutView",
            "align_content": null,
            "align_items": null,
            "align_self": null,
            "border": null,
            "bottom": null,
            "display": null,
            "flex": null,
            "flex_flow": null,
            "grid_area": null,
            "grid_auto_columns": null,
            "grid_auto_flow": null,
            "grid_auto_rows": null,
            "grid_column": null,
            "grid_gap": null,
            "grid_row": null,
            "grid_template_areas": null,
            "grid_template_columns": null,
            "grid_template_rows": null,
            "height": null,
            "justify_content": null,
            "justify_items": null,
            "left": null,
            "margin": null,
            "max_height": null,
            "max_width": null,
            "min_height": null,
            "min_width": null,
            "object_fit": null,
            "object_position": null,
            "order": null,
            "overflow": null,
            "overflow_x": null,
            "overflow_y": null,
            "padding": null,
            "right": null,
            "top": null,
            "visibility": null,
            "width": null
          }
        },
        "0d921250d68f46969a2d4219a50ab515": {
          "model_module": "@jupyter-widgets/base",
          "model_name": "LayoutModel",
          "model_module_version": "1.2.0",
          "state": {
            "_model_module": "@jupyter-widgets/base",
            "_model_module_version": "1.2.0",
            "_model_name": "LayoutModel",
            "_view_count": null,
            "_view_module": "@jupyter-widgets/base",
            "_view_module_version": "1.2.0",
            "_view_name": "LayoutView",
            "align_content": null,
            "align_items": null,
            "align_self": null,
            "border": null,
            "bottom": null,
            "display": null,
            "flex": null,
            "flex_flow": null,
            "grid_area": null,
            "grid_auto_columns": null,
            "grid_auto_flow": null,
            "grid_auto_rows": null,
            "grid_column": null,
            "grid_gap": null,
            "grid_row": null,
            "grid_template_areas": null,
            "grid_template_columns": null,
            "grid_template_rows": null,
            "height": null,
            "justify_content": null,
            "justify_items": null,
            "left": null,
            "margin": null,
            "max_height": null,
            "max_width": null,
            "min_height": null,
            "min_width": null,
            "object_fit": null,
            "object_position": null,
            "order": null,
            "overflow": null,
            "overflow_x": null,
            "overflow_y": null,
            "padding": null,
            "right": null,
            "top": null,
            "visibility": null,
            "width": null
          }
        },
        "690a3156bd824b35aabb6d7cd8d02a7e": {
          "model_module": "@jupyter-widgets/controls",
          "model_name": "SliderStyleModel",
          "model_module_version": "1.5.0",
          "state": {
            "_model_module": "@jupyter-widgets/controls",
            "_model_module_version": "1.5.0",
            "_model_name": "SliderStyleModel",
            "_view_count": null,
            "_view_module": "@jupyter-widgets/base",
            "_view_module_version": "1.2.0",
            "_view_name": "StyleView",
            "description_width": "",
            "handle_color": null
          }
        },
        "3054e138926844758f2f4c006555a983": {
          "model_module": "@jupyter-widgets/base",
          "model_name": "LayoutModel",
          "model_module_version": "1.2.0",
          "state": {
            "_model_module": "@jupyter-widgets/base",
            "_model_module_version": "1.2.0",
            "_model_name": "LayoutModel",
            "_view_count": null,
            "_view_module": "@jupyter-widgets/base",
            "_view_module_version": "1.2.0",
            "_view_name": "LayoutView",
            "align_content": null,
            "align_items": null,
            "align_self": null,
            "border": null,
            "bottom": null,
            "display": null,
            "flex": null,
            "flex_flow": null,
            "grid_area": null,
            "grid_auto_columns": null,
            "grid_auto_flow": null,
            "grid_auto_rows": null,
            "grid_column": null,
            "grid_gap": null,
            "grid_row": null,
            "grid_template_areas": null,
            "grid_template_columns": null,
            "grid_template_rows": null,
            "height": null,
            "justify_content": null,
            "justify_items": null,
            "left": null,
            "margin": null,
            "max_height": null,
            "max_width": null,
            "min_height": null,
            "min_width": null,
            "object_fit": null,
            "object_position": null,
            "order": null,
            "overflow": null,
            "overflow_x": null,
            "overflow_y": null,
            "padding": null,
            "right": null,
            "top": null,
            "visibility": null,
            "width": null
          }
        },
        "c8e458a569954a088a75d8a3792a6b3c": {
          "model_module": "@jupyter-widgets/controls",
          "model_name": "SliderStyleModel",
          "model_module_version": "1.5.0",
          "state": {
            "_model_module": "@jupyter-widgets/controls",
            "_model_module_version": "1.5.0",
            "_model_name": "SliderStyleModel",
            "_view_count": null,
            "_view_module": "@jupyter-widgets/base",
            "_view_module_version": "1.2.0",
            "_view_name": "StyleView",
            "description_width": "",
            "handle_color": null
          }
        },
        "b7ad6dc276084efab188930a274ef54f": {
          "model_module": "@jupyter-widgets/base",
          "model_name": "LayoutModel",
          "model_module_version": "1.2.0",
          "state": {
            "_model_module": "@jupyter-widgets/base",
            "_model_module_version": "1.2.0",
            "_model_name": "LayoutModel",
            "_view_count": null,
            "_view_module": "@jupyter-widgets/base",
            "_view_module_version": "1.2.0",
            "_view_name": "LayoutView",
            "align_content": null,
            "align_items": null,
            "align_self": null,
            "border": null,
            "bottom": null,
            "display": null,
            "flex": null,
            "flex_flow": null,
            "grid_area": null,
            "grid_auto_columns": null,
            "grid_auto_flow": null,
            "grid_auto_rows": null,
            "grid_column": null,
            "grid_gap": null,
            "grid_row": null,
            "grid_template_areas": null,
            "grid_template_columns": null,
            "grid_template_rows": null,
            "height": null,
            "justify_content": null,
            "justify_items": null,
            "left": null,
            "margin": null,
            "max_height": null,
            "max_width": null,
            "min_height": null,
            "min_width": null,
            "object_fit": null,
            "object_position": null,
            "order": null,
            "overflow": null,
            "overflow_x": null,
            "overflow_y": null,
            "padding": null,
            "right": null,
            "top": null,
            "visibility": null,
            "width": null
          }
        },
        "09876060973d45d19d501f294f3d5b27": {
          "model_module": "@jupyter-widgets/controls",
          "model_name": "SliderStyleModel",
          "model_module_version": "1.5.0",
          "state": {
            "_model_module": "@jupyter-widgets/controls",
            "_model_module_version": "1.5.0",
            "_model_name": "SliderStyleModel",
            "_view_count": null,
            "_view_module": "@jupyter-widgets/base",
            "_view_module_version": "1.2.0",
            "_view_name": "StyleView",
            "description_width": "",
            "handle_color": null
          }
        },
        "6a3616dcfe1b4f43a8a279f7db13c361": {
          "model_module": "@jupyter-widgets/base",
          "model_name": "LayoutModel",
          "model_module_version": "1.2.0",
          "state": {
            "_model_module": "@jupyter-widgets/base",
            "_model_module_version": "1.2.0",
            "_model_name": "LayoutModel",
            "_view_count": null,
            "_view_module": "@jupyter-widgets/base",
            "_view_module_version": "1.2.0",
            "_view_name": "LayoutView",
            "align_content": null,
            "align_items": null,
            "align_self": null,
            "border": null,
            "bottom": null,
            "display": null,
            "flex": null,
            "flex_flow": null,
            "grid_area": null,
            "grid_auto_columns": null,
            "grid_auto_flow": null,
            "grid_auto_rows": null,
            "grid_column": null,
            "grid_gap": null,
            "grid_row": null,
            "grid_template_areas": null,
            "grid_template_columns": null,
            "grid_template_rows": null,
            "height": null,
            "justify_content": null,
            "justify_items": null,
            "left": null,
            "margin": null,
            "max_height": null,
            "max_width": null,
            "min_height": null,
            "min_width": null,
            "object_fit": null,
            "object_position": null,
            "order": null,
            "overflow": null,
            "overflow_x": null,
            "overflow_y": null,
            "padding": null,
            "right": null,
            "top": null,
            "visibility": null,
            "width": null
          }
        }
      }
    }
  },
  "cells": [
    {
      "cell_type": "markdown",
      "metadata": {
        "id": "AymuyQieh84Y"
      },
      "source": [
        "1. This Colab is designed for the course \"**[REDACTED]**\" instructed by [REDACTED].\n",
        "\n",
        "2. First, copy this Colab notebook to your Drive. Then, read the instruction of this assignment. \n",
        "\n",
        "3. Rename copied notebbok to **[REDACTED]**. For example, **[REDACTED]**\n",
        "\n",
        "4. When you complete your assignment, you need to:\n",
        "\n",
        "  a. First, download your Colab notebook as a IPYNB file\n",
        "\n",
        "  b. Next, upload downloaded Colab notebook to the specific drive folder [REDACTED] before **[REDACTED]**\n",
        "\n",
        "  c. Then, please submit the link of your **uploaded** file to [REDACTED]. \n",
        "  \n",
        "  The link of **uploaded** IPYNB file can be found by clicking **Share>Get Link** on the top right.\n",
        "  \n",
        "Note that you can re-submit your assigment by replacing the old one.\n"
      ]
    },
    {
      "cell_type": "markdown",
      "metadata": {
        "id": "cS296kiqkYbi"
      },
      "source": [
        "## Personal Information\n",
        "Please fill in your details below.\n",
        "\n",
        "Name: [REDACTED]\n",
        "\n",
        "Student ID: [REDACTED]\n",
        "\n",
        "Department/Program: [REDACTED]"
      ]
    },
    {
      "cell_type": "code",
      "metadata": {
        "id": "HYZAgDHUXriw"
      },
      "source": [
        "# Load packages\n",
        "import matplotlib.pyplot as plt\n",
        "import numpy as np\n",
        "\n",
        "# Used for interact\n",
        "from ipywidgets import interact, widgets"
      ],
      "execution_count": 2,
      "outputs": []
    },
    {
      "cell_type": "markdown",
      "metadata": {
        "id": "xFgyJZ_dlYGR"
      },
      "source": [
        "## Plot A Function You Like\n",
        "\n",
        "In this assignment, you have to design and plot one function your like.\n",
        "\n",
        "There are three requirements:\n",
        "1. Describe the function formulation explicity and the domain that you focus on. You can check the text cell below as a template. \n",
        "2. Complete the function ``plot_yours()`` defined below to plot the function defeind by you, note that you can find some elementary functions in Python using Numpy: https://numpy.org/doc/stable/reference/routines.math.html\n",
        "3. Change some plot settings such as color of line, marker and linestyle. For more detail about plot settings, please check https://matplotlib.org/stable/api/_as_gen/matplotlib.pyplot.plot.html\n",
        "4. Plot the function in the prepared code cell, you will need to indicate values of endpoints ``a``, ``b,``, and the number ``n`` used to plot the function successfully. **A function graph is expected as an output.**\n",
        "5. Plot your finction using interact() function. **A interact widget is expected as an output**"
      ]
    },
    {
      "cell_type": "markdown",
      "metadata": {
        "id": "Ya_JDR8KUaJS"
      },
      "source": [
        "### 1. Describe your function and the domain you want to plot\n",
        "The function I plot in this assignment is\n",
        "$$\n",
        "y = (\\cos {x^2} + 1 )^x\n",
        "$$\n",
        "on $[2,5]$.\n",
        "\n"
      ]
    },
    {
      "cell_type": "code",
      "metadata": {
        "id": "rNQBVzwbjNdg"
      },
      "source": [
        "# 2. Complete the function below to plot the function defined by you\n",
        "def f(a, b, n):\n",
        "    x = np.linspace(a, b, n)\n",
        "    ### Define your own function here\n",
        "    y = ( ( np.cos( x ** 2 ) + 1 ) ** x )\n",
        "    ###\n",
        "    plt.plot(x, y, \"g:\", lw=1)  \n",
        "    ### 3. Change some plot settings\n",
        "    plt.title(\"Oscillating function!\")\n",
        "    plt.legend([\"$y = (\\cos {x^2} + 1 )^x$\"])\n",
        "    ### y = ( cos x² + 1 )ˣ\n",
        "    ###"
      ],
      "execution_count": 23,
      "outputs": []
    },
    {
      "cell_type": "code",
      "metadata": {
        "id": "2PAqEJorWu9P",
        "colab": {
          "base_uri": "https://localhost:8080/",
          "height": 281
        },
        "outputId": "010c5c18-fd50-4fe0-a7ac-55ba8ea65116"
      },
      "source": [
        "# 4. Plot your function with specific\n",
        "f(2,5,100)"
      ],
      "execution_count": 24,
      "outputs": [
        {
          "output_type": "display_data",
          "data": {
            "text/plain": [
              "<Figure size 432x288 with 1 Axes>"
            ],
            "image/png": "[encoded data removed]"
          },
          "metadata": {
            "needs_background": "light"
          }
        }
      ]
    },
    {
      "cell_type": "code",
      "source": [
        "# 5. Plot your function with interact() function\n",
        "\n",
        "# Using trick from https://stackoverflow.com/questions/48316044/setting-default-values-in-sliders-using-interact\n",
        "# Import widgets in order to control default value of n and steps.\n",
        "\n",
        "def slider(mi, ma, sp, vl):\n",
        "  widgets.IntSlider( min = mi, max = ma, step = sp, value = vl )\n",
        "\n",
        "interact(f, a = widgets.IntSlider(min=-10,max=9,step=1,value=2), b = widgets.IntSlider(min=-9,max=10,step=1,value=5), n = widgets.IntSlider(min=2,max=200,step=1,value=50) )"
      ],
      "metadata": {
        "id": "z1gLjjVC14SM",
        "colab": {
          "base_uri": "https://localhost:8080/",
          "height": 394,
          "referenced_widgets": [
            "a659671f50da4d94a543a5ce97101899",
            "bcce67562c1647b7a10c052aa7009e85",
            "5e8b78c612e040a3aadea98b682f63b4",
            "b470bfc6186b4e078137ae88443bb372",
            "dae29f1c4b1546a0a8036c08a880485b",
            "1aac7cd613754c58a09a1ffe8e6429b7",
            "0d921250d68f46969a2d4219a50ab515",
            "690a3156bd824b35aabb6d7cd8d02a7e",
            "3054e138926844758f2f4c006555a983",
            "c8e458a569954a088a75d8a3792a6b3c",
            "b7ad6dc276084efab188930a274ef54f",
            "09876060973d45d19d501f294f3d5b27",
            "6a3616dcfe1b4f43a8a279f7db13c361"
          ]
        },
        "outputId": "1ed7d828-2443-46b2-db7a-be153d73d8d3"
      },
      "execution_count": 26,
      "outputs": [
        {
          "output_type": "display_data",
          "data": {
            "text/plain": [
              "interactive(children=(IntSlider(value=2, description='a', max=9, min=-10), IntSlider(value=5, description='b',…"
            ],
            "application/vnd.jupyter.widget-view+json": {
              "version_major": 2,
              "version_minor": 0,
              "model_id": "a659671f50da4d94a543a5ce97101899"
            }
          },
          "metadata": {}
        },
        {
          "output_type": "execute_result",
          "data": {
            "text/plain": [
              "<function __main__.f(a, b, n)>"
            ]
          },
          "metadata": {},
          "execution_count": 26
        }
      ]
    },
    {
      "cell_type": "markdown",
      "source": [
        "# (Bonus) Design your own Python exercise \n",
        "\n",
        "In this part, you have a chance to be a Pyton instructor. You may each additional 1 point in this assignment with your creativity.\n",
        "\n",
        "Based on recent course materials, please propose a Python exercise for other classmates. \n",
        "\n",
        "Note that you don't need to answer what you propose here. However, you need to describe your exercise as much detail as you can. "
      ],
      "metadata": {
        "id": "LlIWLsJ02u9s"
      }
    },
    {
      "cell_type": "code",
      "source": [],
      "metadata": {
        "id": "fJAKkvGr2vIA"
      },
      "execution_count": null,
      "outputs": []
    }
  ]
}