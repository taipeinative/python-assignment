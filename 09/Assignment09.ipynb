{
  "cells": [
    {
      "cell_type": "markdown",
      "metadata": {
        "id": "AymuyQieh84Y"
      },
      "source": [
        "1. This Colab is designed for the course \"[REDACTED]\" instructed by [REDACTED].\n",
        "\n",
        "2. First, copy this Colab notebook to your Drive. Then, read the instruction of this assignment. \n",
        "\n",
        "3. Rename the copied Colab page to **[REDACTED]**. For example, **[REDACTED]**\n",
        "\n",
        "4. When you complete your assignment, you need to:\n",
        "\n",
        "  a. First, **download** your Colab notebook as a IPYNB file\n",
        "\n",
        "  b. Next, **upload** the IPYNB file to the specific drive folder [REDACTED] before **[REDACTED]**\n",
        "\n",
        "  c. Then, **submit** the link of your uploaded file to [REDACTED]. \n",
        "  \n",
        "  The link of **uploaded** IPYNB file can be found by clicking **Share>Get Link** on the top right on the Colab page you upload.\n",
        "  \n",
        "Note that you can re-submit your assigment by replacing the old one.\n"
      ]
    },
    {
      "cell_type": "markdown",
      "metadata": {
        "id": "cS296kiqkYbi"
      },
      "source": [
        "## Personal Information\n",
        "Please fill in your details below.\n",
        "\n",
        "Name: [REDACTED]\n",
        "\n",
        "Student ID: [REDACTED]\n",
        "\n",
        "Department/Program: [REDACTED]"
      ]
    },
    {
      "cell_type": "code",
      "execution_count": null,
      "metadata": {
        "id": "qnES-TmTBrcy"
      },
      "outputs": [],
      "source": [
        "# Load packages\n",
        "import pandas as pd"
      ]
    },
    {
      "cell_type": "markdown",
      "metadata": {
        "id": "xFgyJZ_dlYGR"
      },
      "source": [
        "## Pandas: Revisited of Diet record\n",
        "\n",
        "Consider a variant of diet record from assignment 7 as follows: "
      ]
    },
    {
      "cell_type": "code",
      "execution_count": null,
      "metadata": {
        "id": "6RMXCXtZPaxW"
      },
      "outputs": [],
      "source": [
        "# [DO NOT MODIFY] Define date and diet records as two lists\n",
        "date_list = ['10/26', '10/27', '10/28', '10/29', '10/30']\n",
        "record_list = [[{'meal_type': 'Breakfast', 'food_type': 'Salad', 'order_place': 'Vendor'},\n",
        "                {'meal_type': 'Lunch', 'food_type': 'Burger', 'order_place': 'Vendor'},\n",
        "                {'meal_type': 'Dinner', 'food_type': 'Soup', 'order_place': 'Vendor'}],\n",
        "               [{'meal_type': 'Breakfast', 'food_type': 'Fried rice', 'order_place': 'Resturant'},\n",
        "                {'meal_type': 'Lunch', 'food_type': 'Burger', 'order_place': 'Vendor'}],\n",
        "               [{'meal_type': 'Breakfast', 'food_type': 'Pizza', 'order_place': 'Cooking at home'},\n",
        "                {'meal_type': 'Lunch', 'food_type': 'Salad', 'order_place': 'Cooking at home'},\n",
        "                {'meal_type': 'Dinner', 'food_type': 'Pizza', 'order_place': 'Vendor'}],\n",
        "               [{'meal_type': 'Breakfast', 'food_type': 'Noodle', 'order_place': 'Dining car'},\n",
        "                {'meal_type': 'Lunch', 'food_type': 'Fried rice', 'order_place': 'Vendor'},\n",
        "                {'meal_type': 'Dinner', 'food_type': 'Noodle', 'order_place': 'Vendor'}],\n",
        "               [{'meal_type': 'Lunch', 'food_type': 'Pizza', 'order_place': 'Resturant'},\n",
        "                {'meal_type': 'Dinner', 'food_type': 'Burger', 'order_place': 'Cooking at home'}]]"
      ]
    },
    {
      "cell_type": "code",
      "execution_count": null,
      "metadata": {
        "colab": {
          "base_uri": "https://localhost:8080/"
        },
        "id": "EwhIRbTmSqoG",
        "outputId": "551d564f-818c-4588-ec2d-46de201e04f3"
      },
      "outputs": [],
      "source": [
        "# [DO NOT MODIFY] Assemble date and diet records into a dict\n",
        "data = {'Date': date_list,\n",
        "        'Records': record_list}\n",
        "data"
      ]
    },
    {
      "cell_type": "markdown",
      "metadata": {
        "id": "J0HKODjgS8VT"
      },
      "source": [
        "``data`` is a dict with two keys ``Date`` and ``'Records'`` which represents a dietary recored of all meals from 10/26 to 10/31. \n",
        "\n",
        "The value of the key ``'Records'`` is ``date_list``, a list of strings for each date 10/26 to 10/31. \n",
        "\n",
        "The value of the key ``'Records'`` is ``record_list``, a very nested structure, more precisely, ``record_list`` is a list of 5 lists of 3 dicts. "
      ]
    },
    {
      "cell_type": "markdown",
      "metadata": {
        "id": "ZXSD7DiOUW2B"
      },
      "source": [
        "If we don't preprocess ```record_list```, then we may get an unexpected data frame as follows:"
      ]
    },
    {
      "cell_type": "code",
      "execution_count": null,
      "metadata": {
        "colab": {
          "base_uri": "https://localhost:8080/",
          "height": 206
        },
        "id": "5-fiydCDQ3Aa",
        "outputId": "d087cb0e-c1a6-433f-ad70-8636424ad31e"
      },
      "outputs": [],
      "source": [
        "# [DO NOT MODIFY] Display of the data frame from the diet record directly\n",
        "df = pd.DataFrame(data)\n",
        "df"
      ]
    },
    {
      "cell_type": "markdown",
      "metadata": {
        "id": "ytrmMAq79AOW"
      },
      "source": [
        "In this exercise, you could try different approaches by using \n",
        "* nested structure of dicts, \n",
        "* NumPy arrays, or \n",
        "* Pandas DataFrames."
      ]
    },
    {
      "cell_type": "markdown",
      "metadata": {
        "id": "uarLAyGHUp8P"
      },
      "source": [
        "### 1. Single Meal as a Single Data\n",
        "\n",
        "Now, we would like to expand each entry in Records column into an individual row as follows:"
      ]
    },
    {
      "cell_type": "markdown",
      "metadata": {
        "id": "BpD52LxOZaHN"
      },
      "source": [
        "If the following figure cannot be loaded properly, please click the [link](https://drive.google.com/uc?export=view&id=1ERBYkOrtHdltC5vau9NAD4WZ9-bu-lYC) to check the figure. \n",
        "\n",
        "<img src='https://drive.google.com/uc?export=view&id=1ERBYkOrtHdltC5vau9NAD4WZ9-bu-lYC' width=\"640\" height=\"360\">\n"
      ]
    },
    {
      "cell_type": "code",
      "execution_count": null,
      "metadata": {
        "id": "eSxdV4VxfFkz"
      },
      "outputs": [],
      "source": [
        "# Write a program to create the data frame on the right in above figure, and name it df_v\n",
        "\n",
        "# Pre-defined arrays: They are intended to store the value we are going to \n",
        "# search, using Depth-First-Search (DFS).\n",
        "#\n",
        "# We already knew that the data structure of 'record_list' looks like how \n",
        "# following diagram illustrates:\n",
        "#\n",
        "#                            record_list                        \n",
        "#   ┌───────────────────────────────────────────────────────────┐\n",
        "#   │     (10/26)        (10/27)                    (10/30)     │\n",
        "#   │ ┌─────────────┐┌─────────────┐            ┌─────────────┐ │\n",
        "#   │ │ (Breakfast) ││ (Breakfast) │            │   (Lunch)   │ │\n",
        "#   │ │ ┌─────────┐ ││ ┌─────────┐ │            │ ┌─────────┐ │ │\n",
        "#   │ │ │meal_type│ ││ │meal_type│ │  Omission  │ │meal_type│ │ │\n",
        "#   │ │ │food_type│ ││ │food_type│ │   ......   │ │food_type│ │ │\n",
        "#   │ │ │order_...│ ││ │order_...│ │            │ │order_...│ │ │\n",
        "#   │ │ └─────────┘ ││ └─────────┘ │            │ └─────────┘ │ │\n",
        "#   │ │   (Lunch)   ││   (Lunch)   │            │   (Dinner)  │ │\n",
        "#   │ │ ┌─────────┐ ││ ┌─────────┐ │            │ ┌─────────┐ │ │\n",
        "#   │ │ │meal_type│ ││ │meal_type│ │            │ │meal_type│ │ │\n",
        "#   │ │ │food_type│ ││ │food_type│ │            │ │food_type│ │ │\n",
        "#   │ │ │order_...│ ││ │order_...│ │            │ │order_...│ │ │\n",
        "#   │ │ └─────────┘ ││ └─────────┘ │            │ └─────────┘ │ │\n",
        "#   │ │   (Dinner)  │└─────────────┘            └─────────────┘ │\n",
        "#   │ │ ┌─────────┐ │                                           │\n",
        "#   │ │ │meal_type│ │                                           │\n",
        "#   │ │ │food_type│ │                                           │\n",
        "#   │ │ │order_...│ │                                           │\n",
        "#   │ │ └─────────┘ │                                           │\n",
        "#   │ └─────────────┘                                           │\n",
        "#   └───────────────────────────────────────────────────────────┘\n",
        "#\n",
        "# In order to access to these values, we have to look into 3 levels, for example,\n",
        "# if I want to access to the food_type of dinner on 10/30, I have to query by \n",
        "# the statement record_list[-1][-1]['meal_type'].\n",
        "\n",
        "datesList = []\n",
        "mealList = []\n",
        "foodList = []\n",
        "placeList = [] \n",
        "\n",
        "for i in range(len(date_list)): # Look through first level (dates)\n",
        "\n",
        "  for j in range(len(record_list[i])): # Look through second level (number of meals)\n",
        "\n",
        "    # Following are looking through third level (details of each meal)\n",
        "    datesList.append(date_list[i])\n",
        "    mealList.append(record_list[i][j]['meal_type'])\n",
        "    foodList.append(record_list[i][j]['food_type'])\n",
        "    placeList.append(record_list[i][j]['order_place'])\n",
        "\n",
        "# Combined them together into a new dictionary\n",
        "sortedData = {'Date': datesList, 'Meal': mealList, 'Food': foodList, 'Order Place': placeList}\n",
        "# Convert into data frame\n",
        "df_v = pd.DataFrame(sortedData)"
      ]
    },
    {
      "cell_type": "code",
      "execution_count": null,
      "metadata": {
        "colab": {
          "base_uri": "https://localhost:8080/",
          "height": 457
        },
        "id": "PcaRtgUgWjO5",
        "outputId": "01d1fff8-d6b9-449c-97b0-b1f893140715"
      },
      "outputs": [
        {
          "data": {
            "text/html": [
              "\n",
              "  <div id=\"df-549b3502-5092-4d7e-a085-4a7dbd93d6d4\">\n",
              "    <div class=\"colab-df-container\">\n",
              "      <div>\n",
              "<style scoped>\n",
              "    .dataframe tbody tr th:only-of-type {\n",
              "        vertical-align: middle;\n",
              "    }\n",
              "\n",
              "    .dataframe tbody tr th {\n",
              "        vertical-align: top;\n",
              "    }\n",
              "\n",
              "    .dataframe thead th {\n",
              "        text-align: right;\n",
              "    }\n",
              "</style>\n",
              "<table border=\"1\" class=\"dataframe\">\n",
              "  <thead>\n",
              "    <tr style=\"text-align: right;\">\n",
              "      <th></th>\n",
              "      <th>Date</th>\n",
              "      <th>Meal</th>\n",
              "      <th>Food</th>\n",
              "      <th>Order Place</th>\n",
              "    </tr>\n",
              "  </thead>\n",
              "  <tbody>\n",
              "    <tr>\n",
              "      <th>0</th>\n",
              "      <td>10/26</td>\n",
              "      <td>Breakfast</td>\n",
              "      <td>Salad</td>\n",
              "      <td>Vendor</td>\n",
              "    </tr>\n",
              "    <tr>\n",
              "      <th>1</th>\n",
              "      <td>10/26</td>\n",
              "      <td>Lunch</td>\n",
              "      <td>Burger</td>\n",
              "      <td>Vendor</td>\n",
              "    </tr>\n",
              "    <tr>\n",
              "      <th>2</th>\n",
              "      <td>10/26</td>\n",
              "      <td>Dinner</td>\n",
              "      <td>Soup</td>\n",
              "      <td>Vendor</td>\n",
              "    </tr>\n",
              "    <tr>\n",
              "      <th>3</th>\n",
              "      <td>10/27</td>\n",
              "      <td>Breakfast</td>\n",
              "      <td>Fried rice</td>\n",
              "      <td>Resturant</td>\n",
              "    </tr>\n",
              "    <tr>\n",
              "      <th>4</th>\n",
              "      <td>10/27</td>\n",
              "      <td>Lunch</td>\n",
              "      <td>Burger</td>\n",
              "      <td>Vendor</td>\n",
              "    </tr>\n",
              "    <tr>\n",
              "      <th>5</th>\n",
              "      <td>10/28</td>\n",
              "      <td>Breakfast</td>\n",
              "      <td>Pizza</td>\n",
              "      <td>Cooking at home</td>\n",
              "    </tr>\n",
              "    <tr>\n",
              "      <th>6</th>\n",
              "      <td>10/28</td>\n",
              "      <td>Lunch</td>\n",
              "      <td>Salad</td>\n",
              "      <td>Cooking at home</td>\n",
              "    </tr>\n",
              "    <tr>\n",
              "      <th>7</th>\n",
              "      <td>10/28</td>\n",
              "      <td>Dinner</td>\n",
              "      <td>Pizza</td>\n",
              "      <td>Vendor</td>\n",
              "    </tr>\n",
              "    <tr>\n",
              "      <th>8</th>\n",
              "      <td>10/29</td>\n",
              "      <td>Breakfast</td>\n",
              "      <td>Noodle</td>\n",
              "      <td>Dining car</td>\n",
              "    </tr>\n",
              "    <tr>\n",
              "      <th>9</th>\n",
              "      <td>10/29</td>\n",
              "      <td>Lunch</td>\n",
              "      <td>Fried rice</td>\n",
              "      <td>Vendor</td>\n",
              "    </tr>\n",
              "    <tr>\n",
              "      <th>10</th>\n",
              "      <td>10/29</td>\n",
              "      <td>Dinner</td>\n",
              "      <td>Noodle</td>\n",
              "      <td>Vendor</td>\n",
              "    </tr>\n",
              "    <tr>\n",
              "      <th>11</th>\n",
              "      <td>10/30</td>\n",
              "      <td>Lunch</td>\n",
              "      <td>Pizza</td>\n",
              "      <td>Resturant</td>\n",
              "    </tr>\n",
              "    <tr>\n",
              "      <th>12</th>\n",
              "      <td>10/30</td>\n",
              "      <td>Dinner</td>\n",
              "      <td>Burger</td>\n",
              "      <td>Cooking at home</td>\n",
              "    </tr>\n",
              "  </tbody>\n",
              "</table>\n",
              "</div>\n",
              "      <button class=\"colab-df-convert\" onclick=\"convertToInteractive('df-549b3502-5092-4d7e-a085-4a7dbd93d6d4')\"\n",
              "              title=\"Convert this dataframe to an interactive table.\"\n",
              "              style=\"display:none;\">\n",
              "        \n",
              "  <svg xmlns=\"http://www.w3.org/2000/svg\" height=\"24px\"viewBox=\"0 0 24 24\"\n",
              "       width=\"24px\">\n",
              "    <path d=\"M0 0h24v24H0V0z\" fill=\"none\"/>\n",
              "    <path d=\"M18.56 5.44l.94 2.06.94-2.06 2.06-.94-2.06-.94-.94-2.06-.94 2.06-2.06.94zm-11 1L8.5 8.5l.94-2.06 2.06-.94-2.06-.94L8.5 2.5l-.94 2.06-2.06.94zm10 10l.94 2.06.94-2.06 2.06-.94-2.06-.94-.94-2.06-.94 2.06-2.06.94z\"/><path d=\"M17.41 7.96l-1.37-1.37c-.4-.4-.92-.59-1.43-.59-.52 0-1.04.2-1.43.59L10.3 9.45l-7.72 7.72c-.78.78-.78 2.05 0 2.83L4 21.41c.39.39.9.59 1.41.59.51 0 1.02-.2 1.41-.59l7.78-7.78 2.81-2.81c.8-.78.8-2.07 0-2.86zM5.41 20L4 18.59l7.72-7.72 1.47 1.35L5.41 20z\"/>\n",
              "  </svg>\n",
              "      </button>\n",
              "      \n",
              "  <style>\n",
              "    .colab-df-container {\n",
              "      display:flex;\n",
              "      flex-wrap:wrap;\n",
              "      gap: 12px;\n",
              "    }\n",
              "\n",
              "    .colab-df-convert {\n",
              "      background-color: #E8F0FE;\n",
              "      border: none;\n",
              "      border-radius: 50%;\n",
              "      cursor: pointer;\n",
              "      display: none;\n",
              "      fill: #1967D2;\n",
              "      height: 32px;\n",
              "      padding: 0 0 0 0;\n",
              "      width: 32px;\n",
              "    }\n",
              "\n",
              "    .colab-df-convert:hover {\n",
              "      background-color: #E2EBFA;\n",
              "      box-shadow: 0px 1px 2px rgba(60, 64, 67, 0.3), 0px 1px 3px 1px rgba(60, 64, 67, 0.15);\n",
              "      fill: #174EA6;\n",
              "    }\n",
              "\n",
              "    [theme=dark] .colab-df-convert {\n",
              "      background-color: #3B4455;\n",
              "      fill: #D2E3FC;\n",
              "    }\n",
              "\n",
              "    [theme=dark] .colab-df-convert:hover {\n",
              "      background-color: #434B5C;\n",
              "      box-shadow: 0px 1px 3px 1px rgba(0, 0, 0, 0.15);\n",
              "      filter: drop-shadow(0px 1px 2px rgba(0, 0, 0, 0.3));\n",
              "      fill: #FFFFFF;\n",
              "    }\n",
              "  </style>\n",
              "\n",
              "      <script>\n",
              "        const buttonEl =\n",
              "          document.querySelector('#df-549b3502-5092-4d7e-a085-4a7dbd93d6d4 button.colab-df-convert');\n",
              "        buttonEl.style.display =\n",
              "          google.colab.kernel.accessAllowed ? 'block' : 'none';\n",
              "\n",
              "        async function convertToInteractive(key) {\n",
              "          const element = document.querySelector('#df-549b3502-5092-4d7e-a085-4a7dbd93d6d4');\n",
              "          const dataTable =\n",
              "            await google.colab.kernel.invokeFunction('convertToInteractive',\n",
              "                                                     [key], {});\n",
              "          if (!dataTable) return;\n",
              "\n",
              "          const docLinkHtml = 'Like what you see? Visit the ' +\n",
              "            '<a target=\"_blank\" href=https://colab.research.google.com/notebooks/data_table.ipynb>data table notebook</a>'\n",
              "            + ' to learn more about interactive tables.';\n",
              "          element.innerHTML = '';\n",
              "          dataTable['output_type'] = 'display_data';\n",
              "          await google.colab.output.renderOutput(dataTable, element);\n",
              "          const docLink = document.createElement('div');\n",
              "          docLink.innerHTML = docLinkHtml;\n",
              "          element.appendChild(docLink);\n",
              "        }\n",
              "      </script>\n",
              "    </div>\n",
              "  </div>\n",
              "  "
            ],
            "text/plain": [
              "     Date       Meal        Food      Order Place\n",
              "0   10/26  Breakfast       Salad           Vendor\n",
              "1   10/26      Lunch      Burger           Vendor\n",
              "2   10/26     Dinner        Soup           Vendor\n",
              "3   10/27  Breakfast  Fried rice        Resturant\n",
              "4   10/27      Lunch      Burger           Vendor\n",
              "5   10/28  Breakfast       Pizza  Cooking at home\n",
              "6   10/28      Lunch       Salad  Cooking at home\n",
              "7   10/28     Dinner       Pizza           Vendor\n",
              "8   10/29  Breakfast      Noodle       Dining car\n",
              "9   10/29      Lunch  Fried rice           Vendor\n",
              "10  10/29     Dinner      Noodle           Vendor\n",
              "11  10/30      Lunch       Pizza        Resturant\n",
              "12  10/30     Dinner      Burger  Cooking at home"
            ]
          },
          "execution_count": null,
          "metadata": {},
          "output_type": "execute_result"
        }
      ],
      "source": [
        "# [DO NOT MODIFY] Expected Data Frame\n",
        "df_v"
      ]
    },
    {
      "cell_type": "markdown",
      "metadata": {
        "id": "8ZdUb2Sshzh3"
      },
      "source": [
        "### 2. Daily Record as a Single Data\n",
        "\n",
        "Here, we would like to represent each meal information as a new column for the same date as follows:"
      ]
    },
    {
      "cell_type": "markdown",
      "metadata": {
        "id": "hTgy4jXBs6Oq"
      },
      "source": [
        "If the following figure cannot be loaded properly, please click the [link](https://drive.google.com/uc?export=view&id=1hOyK4RzaMeolb9wFg9DctKCs3_edbu-c) to check the figure. \n",
        "\n",
        "<img src='https://drive.google.com/uc?export=view&id=1hOyK4RzaMeolb9wFg9DctKCs3_edbu-c' width=\"640\" height=\"360\">"
      ]
    },
    {
      "cell_type": "code",
      "execution_count": null,
      "metadata": {
        "id": "CxbJbTnchzh4"
      },
      "outputs": [],
      "source": [
        "# Write a program to create the data frame on the right in above figure, and name it df_h\n",
        "# We will continue using the same technique which solved first problem.\n",
        "# First, prepare arrays:        \n",
        "\n",
        "datesVList = []\n",
        "breakfastVList = []\n",
        "lunchVList = []\n",
        "dinnerVList = []\n",
        "\n",
        "for k in range(len(date_list)): # Look through first level (dates)\n",
        "\n",
        "  for l in range(len(record_list[k])): # Look through second level (meals)\n",
        "\n",
        "    item = record_list[k][l] # To save time and tidy up\n",
        "\n",
        "    # Look through third level, add value into coresponding list if condition is true\n",
        "\n",
        "    if item.get('meal_type') == 'Breakfast': \n",
        "      breakfastVList.append(item.get('food_type')) \n",
        "\n",
        "    if item.get('meal_type') == 'Lunch':\n",
        "      lunchVList.append(item.get('food_type'))\n",
        "\n",
        "    if item.get('meal_type') == 'Dinner':\n",
        "      dinnerVList.append(item.get('food_type'))\n",
        "\n",
        "  datesVList.append(date_list[k])\n",
        "\n",
        "  # We already knew that we have 3 meals (breakfast, lunch and dinner) a day, so\n",
        "  # for each loop, we should have appended 1 element to following lists, unless\n",
        "  # something is missing. By checking the element quantities, we could find what\n",
        "  # is missing and append 'AIR' back. \n",
        "\n",
        "  breakfastVList.append('AIR') if len(breakfastVList) != k + 1 else None\n",
        "  lunchVList.append('AIR') if len(lunchVList) != k + 1 else None\n",
        "  dinnerVList.append('AIR') if len(dinnerVList) != k + 1 else None\n",
        "\n",
        "# Combined them together into a new dictionary\n",
        "reallySortedData = {'Date': datesVList, 'Breakfast': breakfastVList, 'Lunch': lunchVList, 'Dinner': dinnerVList}\n",
        "# Convert into data frame\n",
        "df_h = pd.DataFrame(reallySortedData)"
      ]
    },
    {
      "cell_type": "code",
      "execution_count": null,
      "metadata": {
        "colab": {
          "base_uri": "https://localhost:8080/",
          "height": 206
        },
        "id": "WhiMLEcBhzh5",
        "outputId": "e9bfdcce-14f8-4826-95fc-5afbddb68e73"
      },
      "outputs": [
        {
          "data": {
            "text/html": [
              "\n",
              "  <div id=\"df-1d300f49-a8a1-4b0d-8845-c018f2bafe3f\">\n",
              "    <div class=\"colab-df-container\">\n",
              "      <div>\n",
              "<style scoped>\n",
              "    .dataframe tbody tr th:only-of-type {\n",
              "        vertical-align: middle;\n",
              "    }\n",
              "\n",
              "    .dataframe tbody tr th {\n",
              "        vertical-align: top;\n",
              "    }\n",
              "\n",
              "    .dataframe thead th {\n",
              "        text-align: right;\n",
              "    }\n",
              "</style>\n",
              "<table border=\"1\" class=\"dataframe\">\n",
              "  <thead>\n",
              "    <tr style=\"text-align: right;\">\n",
              "      <th></th>\n",
              "      <th>Date</th>\n",
              "      <th>Breakfast</th>\n",
              "      <th>Lunch</th>\n",
              "      <th>Dinner</th>\n",
              "    </tr>\n",
              "  </thead>\n",
              "  <tbody>\n",
              "    <tr>\n",
              "      <th>0</th>\n",
              "      <td>10/26</td>\n",
              "      <td>Salad</td>\n",
              "      <td>Burger</td>\n",
              "      <td>Soup</td>\n",
              "    </tr>\n",
              "    <tr>\n",
              "      <th>1</th>\n",
              "      <td>10/27</td>\n",
              "      <td>Fried rice</td>\n",
              "      <td>Burger</td>\n",
              "      <td>AIR</td>\n",
              "    </tr>\n",
              "    <tr>\n",
              "      <th>2</th>\n",
              "      <td>10/28</td>\n",
              "      <td>Pizza</td>\n",
              "      <td>Salad</td>\n",
              "      <td>Pizza</td>\n",
              "    </tr>\n",
              "    <tr>\n",
              "      <th>3</th>\n",
              "      <td>10/29</td>\n",
              "      <td>Noodle</td>\n",
              "      <td>Fried rice</td>\n",
              "      <td>Noodle</td>\n",
              "    </tr>\n",
              "    <tr>\n",
              "      <th>4</th>\n",
              "      <td>10/30</td>\n",
              "      <td>AIR</td>\n",
              "      <td>Pizza</td>\n",
              "      <td>Burger</td>\n",
              "    </tr>\n",
              "  </tbody>\n",
              "</table>\n",
              "</div>\n",
              "      <button class=\"colab-df-convert\" onclick=\"convertToInteractive('df-1d300f49-a8a1-4b0d-8845-c018f2bafe3f')\"\n",
              "              title=\"Convert this dataframe to an interactive table.\"\n",
              "              style=\"display:none;\">\n",
              "        \n",
              "  <svg xmlns=\"http://www.w3.org/2000/svg\" height=\"24px\"viewBox=\"0 0 24 24\"\n",
              "       width=\"24px\">\n",
              "    <path d=\"M0 0h24v24H0V0z\" fill=\"none\"/>\n",
              "    <path d=\"M18.56 5.44l.94 2.06.94-2.06 2.06-.94-2.06-.94-.94-2.06-.94 2.06-2.06.94zm-11 1L8.5 8.5l.94-2.06 2.06-.94-2.06-.94L8.5 2.5l-.94 2.06-2.06.94zm10 10l.94 2.06.94-2.06 2.06-.94-2.06-.94-.94-2.06-.94 2.06-2.06.94z\"/><path d=\"M17.41 7.96l-1.37-1.37c-.4-.4-.92-.59-1.43-.59-.52 0-1.04.2-1.43.59L10.3 9.45l-7.72 7.72c-.78.78-.78 2.05 0 2.83L4 21.41c.39.39.9.59 1.41.59.51 0 1.02-.2 1.41-.59l7.78-7.78 2.81-2.81c.8-.78.8-2.07 0-2.86zM5.41 20L4 18.59l7.72-7.72 1.47 1.35L5.41 20z\"/>\n",
              "  </svg>\n",
              "      </button>\n",
              "      \n",
              "  <style>\n",
              "    .colab-df-container {\n",
              "      display:flex;\n",
              "      flex-wrap:wrap;\n",
              "      gap: 12px;\n",
              "    }\n",
              "\n",
              "    .colab-df-convert {\n",
              "      background-color: #E8F0FE;\n",
              "      border: none;\n",
              "      border-radius: 50%;\n",
              "      cursor: pointer;\n",
              "      display: none;\n",
              "      fill: #1967D2;\n",
              "      height: 32px;\n",
              "      padding: 0 0 0 0;\n",
              "      width: 32px;\n",
              "    }\n",
              "\n",
              "    .colab-df-convert:hover {\n",
              "      background-color: #E2EBFA;\n",
              "      box-shadow: 0px 1px 2px rgba(60, 64, 67, 0.3), 0px 1px 3px 1px rgba(60, 64, 67, 0.15);\n",
              "      fill: #174EA6;\n",
              "    }\n",
              "\n",
              "    [theme=dark] .colab-df-convert {\n",
              "      background-color: #3B4455;\n",
              "      fill: #D2E3FC;\n",
              "    }\n",
              "\n",
              "    [theme=dark] .colab-df-convert:hover {\n",
              "      background-color: #434B5C;\n",
              "      box-shadow: 0px 1px 3px 1px rgba(0, 0, 0, 0.15);\n",
              "      filter: drop-shadow(0px 1px 2px rgba(0, 0, 0, 0.3));\n",
              "      fill: #FFFFFF;\n",
              "    }\n",
              "  </style>\n",
              "\n",
              "      <script>\n",
              "        const buttonEl =\n",
              "          document.querySelector('#df-1d300f49-a8a1-4b0d-8845-c018f2bafe3f button.colab-df-convert');\n",
              "        buttonEl.style.display =\n",
              "          google.colab.kernel.accessAllowed ? 'block' : 'none';\n",
              "\n",
              "        async function convertToInteractive(key) {\n",
              "          const element = document.querySelector('#df-1d300f49-a8a1-4b0d-8845-c018f2bafe3f');\n",
              "          const dataTable =\n",
              "            await google.colab.kernel.invokeFunction('convertToInteractive',\n",
              "                                                     [key], {});\n",
              "          if (!dataTable) return;\n",
              "\n",
              "          const docLinkHtml = 'Like what you see? Visit the ' +\n",
              "            '<a target=\"_blank\" href=https://colab.research.google.com/notebooks/data_table.ipynb>data table notebook</a>'\n",
              "            + ' to learn more about interactive tables.';\n",
              "          element.innerHTML = '';\n",
              "          dataTable['output_type'] = 'display_data';\n",
              "          await google.colab.output.renderOutput(dataTable, element);\n",
              "          const docLink = document.createElement('div');\n",
              "          docLink.innerHTML = docLinkHtml;\n",
              "          element.appendChild(docLink);\n",
              "        }\n",
              "      </script>\n",
              "    </div>\n",
              "  </div>\n",
              "  "
            ],
            "text/plain": [
              "    Date   Breakfast       Lunch  Dinner\n",
              "0  10/26       Salad      Burger    Soup\n",
              "1  10/27  Fried rice      Burger     AIR\n",
              "2  10/28       Pizza       Salad   Pizza\n",
              "3  10/29      Noodle  Fried rice  Noodle\n",
              "4  10/30         AIR       Pizza  Burger"
            ]
          },
          "execution_count": null,
          "metadata": {},
          "output_type": "execute_result"
        }
      ],
      "source": [
        "# [DO NOT MODIFY] Expected Data Frame\n",
        "df_h"
      ]
    },
    {
      "cell_type": "markdown",
      "metadata": {
        "id": "KgMBcN5gwx0t"
      },
      "source": [
        "# (Bonus) Design your own Python exercise \n",
        "\n",
        "In this part, you could got additional 1 point with your creativity.\n",
        "\n",
        "Consider a scenario that you are a Python instructor. Based on recent course materials such as NumPy and Pandas, please design a Python exercise for your students (that is, other classmates). \n",
        "\n",
        "Note that you have to describe proposed exercise in detail such as the expected result, however, the solution manual of this exercises is optional, but I encourage you to give your own solution if possible. "
      ]
    },
    {
      "cell_type": "code",
      "execution_count": null,
      "metadata": {
        "id": "cKtYjRKKw1Fk"
      },
      "outputs": [],
      "source": []
    }
  ],
  "metadata": {
    "colab": {
      "collapsed_sections": [],
      "provenance": []
    },
    "kernelspec": {
      "display_name": "Python 3.10.4 64-bit",
      "language": "python",
      "name": "python3"
    },
    "language_info": {
      "name": "python",
      "version": "3.10.4"
    },
    "vscode": {
      "interpreter": {
        "hash": "cc59e16efd5abca0431e3fd7c86510b5dcf1ccee7314368306a7d891ad2ac587"
      }
    }
  },
  "nbformat": 4,
  "nbformat_minor": 0
}
